{
 "cells": [
  {
   "cell_type": "markdown",
   "id": "b322a21a-679d-46dc-9a77-19aa620fbca7",
   "metadata": {},
   "source": [
    "## Entity - Regexes\n",
    "- Account - SID, email, NTAcct\n",
    "- Host - DNS\n",
    "- IP address - IP address (v4, v6)\n",
    "- URL - URL\n",
    "- Azure resource - ResourceID\n",
    "- Registry key - Registry Key\n",
    "- Domain name (DNS) - DNS\n",
    "- File - file path\n",
    "- File hash - MD5, SHA1, SHA256"
   ]
  },
  {
   "cell_type": "code",
   "execution_count": 53,
   "id": "7d97686f",
   "metadata": {},
   "outputs": [],
   "source": [
    "# previously defined regexes\n",
    "\n",
    "email_rgx = r\"^[\\w\\d._%+-]+@(?:[\\w\\d-]+\\.)+[\\w]{2,}$\"\n",
    "resourceId_rgx = r\"^(\\/subscriptions\\/)[^/]*(\\/resourcegroups\\/).*$\"\n",
    "ntacct_rgx = r\"^[^\\/:*?\\\"<>|]{2,15}\\\\[^\\/:*?\\\"<>|]{2,15}$\""
   ]
  },
  {
   "cell_type": "code",
   "execution_count": 54,
   "id": "6516ce07-2e39-48c4-824a-8e20d009429a",
   "metadata": {},
   "outputs": [],
   "source": [
    "import json\n",
    "\n",
    "def writeToJSONFile(data, path='./', fileName='regexes'):\n",
    "    filePathNameWExt = './' + path + '/' + fileName + '.json'\n",
    "    with open(filePathNameWExt, 'w') as fp:\n",
    "        json.dump(data, fp)\n",
    "        \n",
    "# regexes from the IoCExtract library\n",
    "data = {'DNS_REGEX': {'regex': r'^((?=[a-z0-9-]{1,63}\\\\.)[a-z0-9]+(-[a-z0-9]+)*\\\\.){1,126}[a-z]{2,63}$', 'priority': '1', 'entity': 'host'},\n",
    "        'IPV4_REGEX': {'regex': r'^(?P<ipaddress>(?:[0-9]{1,3}\\\\.){3}[0-9]{1,3})$', 'priority': '0', 'entity': 'ipaddress'},\n",
    "        'IPV6_REGEX': {'regex': r'^(?<![:.\\\\w])(?:[A-F0-9]{0,4}:){2,7}[A-F0-9]{0,4}(?![:.\\\\w])$', 'priority': '0', 'entity': 'ipaddress'},\n",
    "        'URL_REGEX': {'regex': r'^\\n            (?P<protocol>(https?|ftp|telnet|ldap|file)://)\\n            (?P<userinfo>([a-z0-9-._~!$&\\\\\\'()*+,;=:]|%[0-9A-F]{2})*@)?\\n            (?P<host>([a-z0-9-._~!$&\\\\\\'()*+,;=]|%[0-9A-F]{2})*)\\n            (:(?P<port>\\\\d*))?\\n            (/(?P<path>([^?\\\\#\"<>\\\\s]|%[0-9A-F]{2})*/?))?\\n            (\\\\?(?P<query>([a-z0-9-._~!$&\\'()*+,;=:/?@]|%[0-9A-F]{2})*))?\\n            (\\\\#(?P<fragment>([a-z0-9-._~!$&\\'()*+,;=:/?@]|%[0-9A-F]{2})*))?$', 'priority': '0', 'entity': 'url'},\n",
    "        'MD5_REGEX': {'regex': r'^(?:^|[^A-Fa-f0-9])(?P<hash>[A-Fa-f0-9]{32})(?:$|[^A-Fa-f0-9])$', 'priority': '1', 'entity': 'hash'},\n",
    "        'SHA1_REGEX': {'regex': r'^(?:^|[^A-Fa-f0-9])(?P<hash>[A-Fa-f0-9]{40})(?:$|[^A-Fa-f0-9])$', 'priority': '1', 'entity': 'hash'},\n",
    "        'SHA256_REGEX': {'regex': r'^(?:^|[^A-Fa-f0-9])(?P<hash>[A-Fa-f0-9]{64})(?:$|[^A-Fa-f0-9])$', 'priority': '1', 'entity': 'hash'},\n",
    "        'LXPATH_REGEX': {'regex': r'^(?P<root>/+||[.]+)\\n            (?P<folder>/(?:[^\\\\\\\\/:*?<>|\\\\r\\\\n]+/)*)\\n            (?P<file>[^/\\\\0<>|\\\\r\\\\n ]+)$', 'priority': '2', 'entity': 'file'},\n",
    "        'WINPATH_REGEX': {'regex': r'^\\n            (?P<root>[a-z]:|\\\\\\\\\\\\\\\\[a-z0-9_.$-]+||[.]+)\\n            (?P<folder>\\\\\\\\(?:[^\\\\/:*?\"\\\\\\'<>|\\\\r\\\\n]+\\\\\\\\)*)\\n            (?P<file>[^\\\\\\\\/*?\"\"<>|\\\\r\\\\n ]+)$', 'priority': '1', 'entity': 'file'}}\n",
    "\n",
    "writeToJSONFile(data)"
   ]
  },
  {
   "cell_type": "code",
   "execution_count": 55,
   "id": "63e5be13-dc3f-4672-9258-8538fa7e58ff",
   "metadata": {},
   "outputs": [],
   "source": [
    "def appendToJSONFile(data, fileName='regexes.json'):\n",
    "    with open (fileName, 'w') as f:\n",
    "        json.dump(data, f)\n",
    "        \n",
    "with open ('regexes.json') as json_file:\n",
    "    data = json.load(json_file)\n",
    "    y = {'EMAIL_REGEX': {'regex': email_rgx, 'priority': '0', 'entity': 'account'},\n",
    "         'RESOURCEID_REGEX': {'regex': resourceId_rgx, 'priority': '0', 'entity': 'azureresource'},\n",
    "         'NTACCT_REGEX': {'regex': ntacct_rgx, 'priority': '0', 'entity': 'account'}}\n",
    "    data.update(y)\n",
    "    \n",
    "appendToJSONFile(data)"
   ]
  },
  {
   "cell_type": "code",
   "execution_count": 56,
   "id": "bd402ab4-6e3b-47b8-9d24-99b98318d483",
   "metadata": {},
   "outputs": [],
   "source": [
    "# SID (account security identifier) regex\n",
    "# S-1-5-18\n",
    "\n",
    "sid_rgx = r\"^S-[\\d]+-[\\d]+-[\\d]+$\"\n",
    "\n",
    "with open ('regexes.json') as json_file:\n",
    "    data = json.load(json_file)\n",
    "    y = {'SID_REGEX': {'regex': sid_rgx, 'priority': '1', 'entity': 'account'}}\n",
    "    data.update(y)\n",
    "    \n",
    "appendToJSONFile(data)"
   ]
  },
  {
   "cell_type": "code",
   "execution_count": 57,
   "id": "c32e35bf-b101-4a83-babb-26cde3c081b4",
   "metadata": {},
   "outputs": [],
   "source": [
    "# Registry key regex\n",
    "# HKEY_LOCAL_MACHINE\\SOFTWARE\\Microsoft\\Windows NT\\CurrentVersion\\Console\\Nls\n",
    "\n",
    "regkey_rgx = r\"\"\"(\"|'|\\s)?(?P<hive>HKLM|HKCU|HKCR|HKU|HKEY_(LOCAL_MACHINE|USERS|CURRENT_USER|CURRENT_CONFIG|CLASSES_ROOT))(?P<key>(\\\\[^\"'\\\\/]+){1,}\\\\?)(\"|'|\\s)?\"\"\"\n",
    "\n",
    "with open ('regexes.json') as json_file:\n",
    "    data = json.load(json_file)\n",
    "    y = {'REGKEY_REGEX': {'regex': regkey_rgx, 'priority': '1', 'entity': 'registrykey'}}\n",
    "    data.update(y)\n",
    "    \n",
    "appendToJSONFile(data)"
   ]
  },
  {
   "cell_type": "code",
   "execution_count": null,
   "id": "75d0ba5f-f228-46b5-bec8-06ff09f64fd8",
   "metadata": {},
   "outputs": [],
   "source": []
  }
 ],
 "metadata": {
  "kernelspec": {
   "display_name": "Python 3",
   "language": "python",
   "name": "python3"
  },
  "language_info": {
   "codemirror_mode": {
    "name": "ipython",
    "version": 3
   },
   "file_extension": ".py",
   "mimetype": "text/x-python",
   "name": "python",
   "nbconvert_exporter": "python",
   "pygments_lexer": "ipython3",
   "version": "3.8.8"
  }
 },
 "nbformat": 4,
 "nbformat_minor": 5
}
