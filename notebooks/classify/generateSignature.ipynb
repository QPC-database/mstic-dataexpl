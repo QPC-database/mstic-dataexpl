{
 "cells": [
  {
   "cell_type": "markdown",
   "metadata": {},
   "source": [
    "# Generate Signatures for Tables"
   ]
  },
  {
   "cell_type": "markdown",
   "metadata": {},
   "source": [
    "## MSTICPYConfig"
   ]
  },
  {
   "cell_type": "code",
   "execution_count": 1,
   "metadata": {
    "tags": []
   },
   "outputs": [
    {
     "name": "stdout",
     "output_type": "stream",
     "text": [
      "Overwriting msticpyconfig.yaml\n"
     ]
    }
   ],
   "source": [
    "%%writefile msticpyconfig.yaml\n",
    "AzureSentinel:\n",
    "  Workspaces:\n",
    "    ASIHuntOMSWorkspaceV4:\n",
    "      TenantId: 72f988bf-86f1-41af-91ab-2d7cd011db47\n",
    "      WorkspaceId: 52b1ab41-869e-4138-9e40-2a4457f09bf0\n",
    "    CyberSecuritySoc:\n",
    "      TenantId: 72f988bf-86f1-41af-91ab-2d7cd011db47\n",
    "      WorkspaceId: 8ecf8077-cf51-4820-aadd-14040956f35d\n",
    "    Default:\n",
    "      TenantId: 72f988bf-86f1-41af-91ab-2d7cd011db47\n",
    "      WorkspaceId: 8ecf8077-cf51-4820-aadd-14040956f35d"
   ]
  },
  {
   "cell_type": "markdown",
   "metadata": {},
   "source": [
    "## Initiializing MSTICPy"
   ]
  },
  {
   "cell_type": "code",
   "execution_count": 2,
   "metadata": {},
   "outputs": [
    {
     "name": "stderr",
     "output_type": "stream",
     "text": [
      "/usr/lib/python3/dist-packages/secretstorage/dhcrypto.py:15: CryptographyDeprecationWarning: int_from_bytes is deprecated, use int.from_bytes instead\n",
      "  from cryptography.utils import int_from_bytes\n",
      "/usr/lib/python3/dist-packages/secretstorage/util.py:19: CryptographyDeprecationWarning: int_from_bytes is deprecated, use int.from_bytes instead\n",
      "  from cryptography.utils import int_from_bytes\n"
     ]
    },
    {
     "data": {
      "text/html": [
       "<hr><h4>Starting Notebook initialization...</h4>"
      ],
      "text/plain": [
       "<IPython.core.display.HTML object>"
      ]
     },
     "metadata": {},
     "output_type": "display_data"
    },
    {
     "data": {
      "text/html": [
       "msticpy version installed: 1.2.1 latest published: 1.2.2<br>A newer version of msticpy - 1.2.2 is available.<br>Upgrade with pip install --upgrade msticpy<br> <br>"
      ],
      "text/plain": [
       "<IPython.core.display.HTML object>"
      ]
     },
     "metadata": {},
     "output_type": "display_data"
    },
    {
     "data": {
      "text/html": [
       "Processing imports.... <br>"
      ],
      "text/plain": [
       "<IPython.core.display.HTML object>"
      ]
     },
     "metadata": {},
     "output_type": "display_data"
    },
    {
     "data": {
      "text/html": [
       "Imported: pd (pandas), IPython.get_ipython, IPython.display.display, IPython.display.HTML, IPython.display.Markdown, widgets (ipywidgets), pathlib.Path, plt (matplotlib.pyplot), matplotlib.MatplotlibDeprecationWarning, sns (seaborn), np (numpy), msticpy.data.QueryProvider, msticpy.nbtools.foliummap.FoliumMap, msticpy.common.utility.md, msticpy.common.utility.md_warn, msticpy.common.wsconfig.WorkspaceConfig, msticpy.datamodel.pivot.Pivot, msticpy.datamodel.entities <br>"
      ],
      "text/plain": [
       "<IPython.core.display.HTML object>"
      ]
     },
     "metadata": {},
     "output_type": "display_data"
    },
    {
     "data": {
      "text/html": [
       "Checking configuration.... <br>"
      ],
      "text/plain": [
       "<IPython.core.display.HTML object>"
      ]
     },
     "metadata": {},
     "output_type": "display_data"
    },
    {
     "data": {
      "text/html": [
       "No valid configuration for Azure Sentinel found. <br>"
      ],
      "text/plain": [
       "<IPython.core.display.HTML object>"
      ]
     },
     "metadata": {},
     "output_type": "display_data"
    },
    {
     "data": {
      "text/html": [
       "Setting notebook options.... <br>"
      ],
      "text/plain": [
       "<IPython.core.display.HTML object>"
      ]
     },
     "metadata": {},
     "output_type": "display_data"
    },
    {
     "data": {
      "text/html": [
       " <br>"
      ],
      "text/plain": [
       "<IPython.core.display.HTML object>"
      ]
     },
     "metadata": {},
     "output_type": "display_data"
    },
    {
     "data": {
      "text/html": [
       "<p style=''><font color='orange'><h3>Notebook setup completed with some warnings.</h3></p>"
      ],
      "text/plain": [
       "<IPython.core.display.HTML object>"
      ]
     },
     "metadata": {},
     "output_type": "display_data"
    },
    {
     "data": {
      "text/html": [
       "<p style=''>One or more configuration items were missing or set incorrectly.</p>"
      ],
      "text/plain": [
       "<IPython.core.display.HTML object>"
      ]
     },
     "metadata": {},
     "output_type": "display_data"
    },
    {
     "data": {
      "text/html": [
       "<p style=''>Please run the <i>Getting Started Guide for Azure Sentinel ML Notebooks</i> notebook. and the <a href='https://msticpy.readthedocs.io/en/latest/getting_started/msticpyconfig.html'>msticpy configuration guide</a>.</p>"
      ],
      "text/plain": [
       "<IPython.core.display.HTML object>"
      ]
     },
     "metadata": {},
     "output_type": "display_data"
    },
    {
     "data": {
      "text/html": [
       "<p style=''>This notebook may still run but with reduced functionality.</p>"
      ],
      "text/plain": [
       "<IPython.core.display.HTML object>"
      ]
     },
     "metadata": {},
     "output_type": "display_data"
    },
    {
     "name": "stdout",
     "output_type": "stream",
     "text": [
      "Please wait. Loading Kqlmagic extension...\n"
     ]
    },
    {
     "data": {
      "application/javascript": [
       "try {IPython.notebook.kernel.reconnect();} catch(err) {;}"
      ],
      "text/plain": [
       "<IPython.core.display.Javascript object>"
      ]
     },
     "metadata": {},
     "output_type": "display_data"
    },
    {
     "data": {
      "application/javascript": [
       "try {IPython.notebook.kernel.execute(\"NOTEBOOK_URL = '\" + window.location + \"'\");} catch(err) {;}"
      ],
      "text/plain": [
       "<IPython.core.display.Javascript object>"
      ]
     },
     "metadata": {},
     "output_type": "display_data"
    }
   ],
   "source": [
    "# Core MSTICPy initialization for Notebooks\n",
    "from msticpy.nbtools import nbinit\n",
    "nbinit.init_notebook(namespace=globals());\n",
    "\n",
    "# Load query providers (typically you'll be using just one)\n",
    "qry_prov = QueryProvider(\"AzureSentinel\")"
   ]
  },
  {
   "cell_type": "markdown",
   "metadata": {},
   "source": [
    "## Connect to workspace \n",
    "```\n",
    "WorkspaceConfig(workspace=WS_NAME)\n",
    "```\n",
    "\n",
    "By default, uses the Default entry"
   ]
  },
  {
   "cell_type": "code",
   "execution_count": 3,
   "metadata": {},
   "outputs": [
    {
     "data": {
      "application/javascript": [
       "try {IPython.notebook.kernel.execute(\"NOTEBOOK_URL = '\" + window.location + \"'\");} catch(err) {;}"
      ],
      "text/plain": [
       "<IPython.core.display.Javascript object>"
      ]
     },
     "metadata": {},
     "output_type": "display_data"
    },
    {
     "data": {
      "text/html": [
       "<!DOCTYPE html>\n",
       "                            <html><body>\n",
       "\n",
       "                            <!-- h1 id=\"user_code_p\"><b>EEKGGDQNE</b><br></h1-->\n",
       "\n",
       "                            <input  id=\"kql_MagicCodeAuthInput\" type=\"text\" readonly style=\"font-weight: bold; border: none;\" size='9' value='EEKGGDQNE'>\n",
       "\n",
       "                            <button id='kql_MagicCodeAuth_button', onclick=\"this.style.visibility='hidden';kql_MagicCodeAuthFunction()\">Copy code to clipboard and authenticate</button>\n",
       "\n",
       "                            <script>\n",
       "                            var kql_MagicUserCodeAuthWindow = null;\n",
       "                            function kql_MagicCodeAuthFunction() {\n",
       "                                /* Get the text field */\n",
       "                                var copyText = document.getElementById(\"kql_MagicCodeAuthInput\");\n",
       "\n",
       "                                /* Select the text field */\n",
       "                                copyText.select();\n",
       "\n",
       "                                /* Copy the text inside the text field */\n",
       "                                document.execCommand(\"copy\");\n",
       "\n",
       "                                /* Alert the copied text */\n",
       "                                // alert(\"Copied the text: \" + copyText.value);\n",
       "\n",
       "                                var w = screen.width / 2;\n",
       "                                var h = screen.height / 2;\n",
       "                                params = 'width='+w+',height='+h\n",
       "                                kql_MagicUserCodeAuthWindow = window.open('https://microsoft.com/devicelogin', 'kql_MagicUserCodeAuthWindow', params);\n",
       "\n",
       "                                // TODO: save selected cell index, so that the clear will be done on the lince cell\n",
       "                            }\n",
       "                            </script>\n",
       "\n",
       "                            </body></html>"
      ],
      "text/plain": [
       "<IPython.core.display.HTML object>"
      ]
     },
     "metadata": {},
     "output_type": "display_data"
    },
    {
     "data": {
      "text/html": [
       "<!DOCTYPE html>\n",
       "                            <html><body><script>\n",
       "\n",
       "                                // close authentication window\n",
       "                                if (kql_MagicUserCodeAuthWindow && kql_MagicUserCodeAuthWindow.opener != null && !kql_MagicUserCodeAuthWindow.closed) {\n",
       "                                    kql_MagicUserCodeAuthWindow.close()\n",
       "                                }\n",
       "                                // TODO: make sure, you clear the right cell. BTW, not sure it is a must to do any clearing\n",
       "\n",
       "                                // clear output cell\n",
       "                                Jupyter.notebook.clear_output(Jupyter.notebook.get_selected_index())\n",
       "\n",
       "                                // TODO: if in run all mode, move to last cell, otherwise move to next cell\n",
       "                                // move to next cell\n",
       "\n",
       "                            </script></body></html>"
      ],
      "text/plain": [
       "<IPython.core.display.HTML object>"
      ]
     },
     "metadata": {},
     "output_type": "display_data"
    },
    {
     "data": {
      "text/html": [
       "<!DOCTYPE html>\n",
       "            <html><body>\n",
       "            <div style=''>\n",
       "            \n",
       "            <button onclick=\"this.style.visibility='visible';\n",
       "            kql_MagicLaunchWindowFunction('kqlmagic/temp_files/5975a30e-3534-4925-96b4-95efba865a70/_8ecf8077-cf51-4820-aadd-14040956f35d_at_loganalytics_schema.html', 'fullscreen=no,directories=no,location=no,menubar=no,resizable=yes,scrollbars=yes,status=no,titlebar=no,toolbar=no,', '_8ecf8077_cf51_4820_aadd_14040956f35d_at_loganalytics_schema', '');\n",
       "            kql_MagicCloseWindow(kql_Magic__8ecf8077_cf51_4820_aadd_14040956f35d_at_loganalytics_schema, -1, -1);\">\n",
       "            popup schema 8ecf8077-cf51-4820-aadd-14040956f35d@loganalytics</button>\n",
       "            </div>\n",
       "\n",
       "            <script>\n",
       "            var kql_Magic__8ecf8077_cf51_4820_aadd_14040956f35d_at_loganalytics_schema = null;\n",
       "\n",
       "\n",
       "            function kql_MagicCloseWindow(window_obj, obj_secs, itself_secs) {\n",
       "                if (obj_secs >= 0) {\n",
       "                    _timeout = setTimeout(function(){\n",
       "                        window_obj.close();\n",
       "                        if (itself_secs >= 0) {\n",
       "                            __timeout = setTimeout(function(){window.close();}, itself_secs * 1000);\n",
       "                        }\n",
       "                    }, obj_secs * 1000);\n",
       "                } else if (itself_secs >= 0) {\n",
       "                    _timeout = setTimeout(function(){window.close();}, itself_secs * 1000);\n",
       "                }\n",
       "            }\n",
       "\n",
       "            function kql_MagicLaunchWindowFunction(file_path_or_data, window_params, window_name, host_or_text) {\n",
       "                var url;\n",
       "                const baseURI = String(window.location);\n",
       "                if (host_or_text == 'text' || host_or_text == 'body') {\n",
       "                    url = ''\n",
       "                } else if (file_path_or_data.startsWith('http')) {\n",
       "                    url = file_path_or_data;\n",
       "                } else if (host_or_text.endsWith('.azureml.ms') || host_or_text.endsWith('.azureml.net')) {\n",
       "                    let azuremlBaseURI = String(window.document.baseURI);\n",
       "                    let start = azuremlBaseURI.search('activeFilePath=');\n",
       "                    if (start > 0) {\n",
       "                        start += 'activeFilePath='.length;\n",
       "                        let end = azuremlBaseURI.substring(start).search('&');\n",
       "                        if (end < 0) {\n",
       "                            end = undefined;\n",
       "                        }\n",
       "                        let parts = azuremlBaseURI.substring(start, end).split('/');\n",
       "                        parts.pop();\n",
       "                        url = host_or_text + '/tree/' + parts.join('/') + '/' + file_path_or_data;\n",
       "                    } else {\n",
       "                        var parts = baseURI.split('/');\n",
       "                        parts.pop();\n",
       "                        url = parts.join('/') + '/' + file_path_or_data;\n",
       "                    }\n",
       "                } else {\n",
       "                    var base_url = '';\n",
       "\n",
       "                    // check if azure notebook\n",
       "                    var azure_host = (host_or_text == null || host_or_text.length == 0) ? 'https://notebooks.azure.com' : host_or_text;\n",
       "                    var start = azure_host.search('//');\n",
       "                    var azure_host_suffix = '.' + azure_host.substring(start+2);\n",
       "\n",
       "                    var end = baseURI.search(azure_host_suffix);\n",
       "                    start = baseURI.search('//');\n",
       "                    if (start > 0 && end > 0) {\n",
       "                        // # azure notebook environment, assume template: https://library-user.notebooks.azure.com\n",
       "                        var parts = baseURI.substring(start+2, end).split('-');\n",
       "                        if (parts.length == 2) {\n",
       "                            var library = parts[0];\n",
       "                            var user = parts[1];\n",
       "                            base_url = azure_host + '/api/user/' +user+ '/library/' +library+ '/html/';\n",
       "                        }\n",
       "                    }\n",
       "\n",
       "                    // check if local jupyter lab\n",
       "                    if (base_url.length == 0) {\n",
       "                        var configDataScipt  = document.getElementById('jupyter-config-data');\n",
       "                        if (configDataScipt != null) {\n",
       "                            var jupyterConfigData = JSON.parse(configDataScipt.textContent);\n",
       "                            if (jupyterConfigData['appName'] == 'JupyterLab' && jupyterConfigData['serverRoot'] != null &&  jupyterConfigData['treeUrl'] != null) {\n",
       "                                var basePath = '/home/zac/mstic-dataexpl/notebooks/classify' + '/';\n",
       "                                if (basePath.startsWith(jupyterConfigData['serverRoot'])) {\n",
       "                                    base_url = '/files/' + basePath.substring(jupyterConfigData['serverRoot'].length+1);\n",
       "                                }\n",
       "                            }\n",
       "                        }\n",
       "                    }\n",
       "\n",
       "                    // works for local jupyter notebook\n",
       "                    if (base_url.length == 0) {\n",
       "\n",
       "                        var parts = baseURI.split('/');\n",
       "                        parts.pop(); // remove notebook name segment\n",
       "                        base_url = parts.join('/') + '/';\n",
       "                    }\n",
       "                    url = base_url + file_path_or_data;\n",
       "                }\n",
       "\n",
       "                window.focus();\n",
       "                var w = screen.width / 2;\n",
       "                var h = screen.height / 2;\n",
       "                params = 'width='+w+',height='+h;\n",
       "                // kql_Magic + window_name should be a global variable \n",
       "                window_obj = window.open(url, window_name, window_params + params);\n",
       "                if (url == '') {\n",
       "                    let decodedData = atob(file_path_or_data);\n",
       "                    if (host_or_text == 'text') {\n",
       "                        var el = window_obj.document.createElement('p');\n",
       "                        window_obj.document.body.overflow = 'auto';\n",
       "                        el.style.top = 0;\n",
       "                        el.style.left = 0;\n",
       "                        el.innerHTML = decodedData;\n",
       "                        window_obj.document.body.appendChild(el);\n",
       "                    } else {\n",
       "                        window_obj.document.body.innerHTML = decodedData;\n",
       "                    }\n",
       "                }\n",
       "                kql_Magic__8ecf8077_cf51_4820_aadd_14040956f35d_at_loganalytics_schema = window_obj;\n",
       "            }\n",
       "            </script>\n",
       "\n",
       "            </body></html>"
      ],
      "text/plain": [
       "<IPython.core.display.HTML object>"
      ]
     },
     "metadata": {},
     "output_type": "display_data"
    },
    {
     "data": {
      "application/javascript": [
       "try {IPython.notebook.kernel.execute(\"NOTEBOOK_URL = '\" + window.location + \"'\");} catch(err) {;}"
      ],
      "text/plain": [
       "<IPython.core.display.Javascript object>"
      ]
     },
     "metadata": {},
     "output_type": "display_data"
    }
   ],
   "source": [
    "qry_prov.connect(WorkspaceConfig())"
   ]
  },
  {
   "cell_type": "markdown",
   "metadata": {},
   "source": [
    "## Read in Tables to be Analyzed"
   ]
  },
  {
   "cell_type": "code",
   "execution_count": 4,
   "metadata": {},
   "outputs": [],
   "source": [
    "import os\n",
    "\n",
    "with open('tables.txt') as file:\n",
    "    tables = file.read().splitlines()\n",
    "\n",
    "# Create folder if it doesn't exist\n",
    "    \n",
    "for table in tables:\n",
    "    if not os.path.isdir('./data/' + table):\n",
    "        os.makedirs('./data/' + table)"
   ]
  },
  {
   "cell_type": "code",
   "execution_count": 5,
   "metadata": {},
   "outputs": [],
   "source": [
    "# tableName contains the name of the table we are querying (string)\n",
    "# maxAge is the oldest result we want to retrieve in weeks minimum 1 week(int)\n",
    "\n",
    "def queryTable(tableName, maxAge=1):\n",
    "\n",
    "    assert(maxAge >= 1)\n",
    "    df = pd.DataFrame()\n",
    "    \n",
    "    for weeks in range(0, maxAge*7, 7):\n",
    "        print(\"Retrieving data for {tableName} from {week} week(s) ago\".format(tableName = tableName, week = int(weeks/7) + 1))\n",
    "        queryString = \"{tableName} | where TimeGenerated between (ago({end}d) .. ago({start}d))\".format(tableName = tableName, start = weeks, end = weeks + 7)\n",
    "        queryResult = qry_prov.exec_query(queryString)\n",
    "        df = pd.concat([df, queryResult])\n",
    "    return df"
   ]
  },
  {
   "cell_type": "code",
   "execution_count": 6,
   "metadata": {},
   "outputs": [],
   "source": [
    "# Query N and Pickle N weeks worth of data\n",
    "# Generates and saves raw data from queries\n",
    "# Takes in a list of tables, a boolean that determines if we are drawing from a random sample\n",
    "# and an integer n is either the number of weeks if sample is false or n is the number of smamples\n",
    "\n",
    "def generateData(tables, sample=True, n=52):\n",
    "    for table in tables:\n",
    "        \n",
    "        # If we are not sampling, use the queryTable to pull n weeks and concatenate that\n",
    "        # else pull a random sample of n rows\n",
    "        \n",
    "        df = pd.DataFrame()\n",
    "        \n",
    "        if sample == False:\n",
    "            for weeks in range(0, maxAge*7, 7):\n",
    "                print(\"Retrieving data for {tableName} from {week} week(s) ago\".format(tableName = tableName, week = int(n/7) + 1))\n",
    "                queryString = \"{tableName} | where TimeGenerated between (ago({end}d) .. ago({start}d))\".format(tableName = tableName, start = n, end = n + 7)\n",
    "                queryResult = qry_prov.exec_query(queryString)\n",
    "                df = pd.concat([df, queryResult])\n",
    "        else:\n",
    "            print(\"Retrieving a sample of {nSamples} rows from {tableName}.\".format(tableName = table, nSamples = n))\n",
    "            queryString = \"{tableName} | sample {nSamples}\".format(tableName = table, nSamples = n)\n",
    "            df = qry_prov.exec_query(queryString)\n",
    "        df.to_pickle('./data/{table}/raw.pkl'.format(table = table))\n",
    "        print(\"{table} pickld and saved in ./data/{table}/raw.pkl\\n\".format(table = table))"
   ]
  },
  {
   "cell_type": "markdown",
   "metadata": {},
   "source": [
    "## Sample and Pickle 10,000 Rows"
   ]
  },
  {
   "cell_type": "code",
   "execution_count": 8,
   "metadata": {},
   "outputs": [
    {
     "name": "stdout",
     "output_type": "stream",
     "text": [
      "Retrieving a sample of 10000 rows from OfficeActivity.\n"
     ]
    },
    {
     "data": {
      "application/javascript": [
       "try {IPython.notebook.kernel.execute(\"NOTEBOOK_URL = '\" + window.location + \"'\");} catch(err) {;}"
      ],
      "text/plain": [
       "<IPython.core.display.Javascript object>"
      ]
     },
     "metadata": {},
     "output_type": "display_data"
    },
    {
     "name": "stdout",
     "output_type": "stream",
     "text": [
      "OfficeActivity pickld and saved in ./data/OfficeActivity/raw.pkl\n",
      "\n",
      "Retrieving a sample of 10000 rows from SigninLogs.\n"
     ]
    },
    {
     "data": {
      "application/javascript": [
       "try {IPython.notebook.kernel.execute(\"NOTEBOOK_URL = '\" + window.location + \"'\");} catch(err) {;}"
      ],
      "text/plain": [
       "<IPython.core.display.Javascript object>"
      ]
     },
     "metadata": {},
     "output_type": "display_data"
    },
    {
     "name": "stdout",
     "output_type": "stream",
     "text": [
      "SigninLogs pickld and saved in ./data/SigninLogs/raw.pkl\n",
      "\n",
      "Retrieving a sample of 10000 rows from SecurityEvent.\n"
     ]
    },
    {
     "data": {
      "application/javascript": [
       "try {IPython.notebook.kernel.execute(\"NOTEBOOK_URL = '\" + window.location + \"'\");} catch(err) {;}"
      ],
      "text/plain": [
       "<IPython.core.display.Javascript object>"
      ]
     },
     "metadata": {},
     "output_type": "display_data"
    },
    {
     "name": "stdout",
     "output_type": "stream",
     "text": [
      "SecurityEvent pickld and saved in ./data/SecurityEvent/raw.pkl\n",
      "\n",
      "Retrieving a sample of 10000 rows from CommonSecurityLog.\n"
     ]
    },
    {
     "data": {
      "application/javascript": [
       "try {IPython.notebook.kernel.execute(\"NOTEBOOK_URL = '\" + window.location + \"'\");} catch(err) {;}"
      ],
      "text/plain": [
       "<IPython.core.display.Javascript object>"
      ]
     },
     "metadata": {},
     "output_type": "display_data"
    },
    {
     "name": "stdout",
     "output_type": "stream",
     "text": [
      "CommonSecurityLog pickld and saved in ./data/CommonSecurityLog/raw.pkl\n",
      "\n"
     ]
    }
   ],
   "source": [
    "generateData(tables, True, 10000)"
   ]
  },
  {
   "cell_type": "markdown",
   "metadata": {},
   "source": [
    "## Read Data from Pickle"
   ]
  },
  {
   "cell_type": "code",
   "execution_count": 9,
   "metadata": {},
   "outputs": [],
   "source": [
    "rawData = {}\n",
    "for table in tables:\n",
    "    rawData[table] = pd.read_pickle(\"data/{tableName}/raw.pkl\".format(tableName=table))"
   ]
  },
  {
   "cell_type": "markdown",
   "metadata": {},
   "source": [
    "## Binarize Tables"
   ]
  },
  {
   "cell_type": "code",
   "execution_count": 10,
   "metadata": {},
   "outputs": [],
   "source": [
    "binData = {}\n",
    "\n",
    "for table in rawData:\n",
    "    \n",
    "    # Replace empty cells with NaN\n",
    "    replace = rawData[table].replace(r'^\\s+$', np.nan, regex=True)\n",
    "    \n",
    "    # Replace NaN values with 0 and all others with 1\n",
    "    binData[table] = replace.notnull().astype('int')\n",
    "    binData[table].to_pickle('./data/{table}/binarized.pkl'.format(table = table))"
   ]
  },
  {
   "cell_type": "code",
   "execution_count": 11,
   "metadata": {},
   "outputs": [],
   "source": [
    "# Takes in a string of 0 and 1 as the signature\n",
    "# Takes in a list of column names\n",
    "# Returns a list of features that are present and features that are missing\n",
    "\n",
    "def getPresentColumns(signature, columns):\n",
    "    present = []\n",
    "    missing = []\n",
    "    for index in range(len(signature)):\n",
    "        if int(signature[index]):\n",
    "            present.append(columns[index])\n",
    "        else:\n",
    "            missing.append(columns[index])\n",
    "    return present, missing"
   ]
  },
  {
   "cell_type": "code",
   "execution_count": 32,
   "metadata": {},
   "outputs": [],
   "source": [
    "# Counts the number of times a datapoint shows up in the features\n",
    "# For example, it counts how many times the IP 44.150.161.58 shows up in the clientIP column\n",
    "\n",
    "def countTypes(row, columns, presentFeatures, featureDict):\n",
    "    for index in range(len(row)):\n",
    "        \n",
    "        currentFeature = columns[index]\n",
    "        value = row[index]\n",
    "        \n",
    "        # If the feature is missing we won't count it\n",
    "        if currentFeature not in presentFeatures:\n",
    "            continue\n",
    "            \n",
    "        #If the value in the column is a list or a dictionary we need to cast to a tuple to use it as a key\n",
    "        if isinstance(value, list) or isinstance(value, dict):\n",
    "            value = str(value)\n",
    "\n",
    "        if value not in featureDict[currentFeature]:\n",
    "            featureDict[currentFeature][value] = 1\n",
    "        else:\n",
    "            featureDict[currentFeature][value] += 1\n",
    "    return featureDict"
   ]
  },
  {
   "cell_type": "code",
   "execution_count": 37,
   "metadata": {},
   "outputs": [
    {
     "name": "stdout",
     "output_type": "stream",
     "text": [
      "TenantId                                                                   8ecf8077-cf51-4820-aadd-14040956f35d\n",
      "Application                                                                                                    \n",
      "UserDomain                                                                                                     \n",
      "UserAgent                                                                                                      \n",
      "RecordType                                                                                                   50\n",
      "                                                                 ...                                           \n",
      "OperationProperties    [{'Name': 'MailAccessType', 'Value': 'Bind'}, {'Name': 'IsThrottled', 'Value': 'False'}]\n",
      "AppId                                                                      414a677a-e50f-46ea-b89c-aebb8a9efbe2\n",
      "ClientAppId                                                                                                    \n",
      "Type                                                                                             OfficeActivity\n",
      "_ResourceId                                                                                                    \n",
      "Name: 0, Length: 131, dtype: object\n"
     ]
    }
   ],
   "source": [
    "print(rawData['OfficeActivity'].iloc[0])"
   ]
  },
  {
   "cell_type": "markdown",
   "metadata": {},
   "source": [
    "## Generate Dictionary of Signatures"
   ]
  },
  {
   "cell_type": "code",
   "execution_count": 38,
   "metadata": {
    "tags": []
   },
   "outputs": [
    {
     "name": "stdout",
     "output_type": "stream",
     "text": [
      "Generating dictionary for OfficeActivity\n",
      "Generating dictionary for SigninLogs\n",
      "Generating dictionary for SecurityEvent\n",
      "Generating dictionary for CommonSecurityLog\n"
     ]
    }
   ],
   "source": [
    "tableSignatures = {}\n",
    "for table in binData:\n",
    "    print('Generating dictionary for {tableName}'.format(tableName = table))\n",
    "    columns = binData[table].columns\n",
    "    signatureDict = {}\n",
    "    \n",
    "    for index, row in binData[table].iterrows():\n",
    "        signature = ''.join(map(str, row.values.tolist()))\n",
    "        \n",
    "        # If this signature does not exist\n",
    "        if signature not in signatureDict:\n",
    "            \n",
    "            # Identify Present/Missing features\n",
    "            present, missing = getPresentColumns(signature, columns)\n",
    "            # Generate and update number of different data types in the feature dictionary\n",
    "            featureDict = {i: {} for i in present}\n",
    "            featureDict = countTypes(rawData[table].iloc[index], columns, present, featureDict)\n",
    "            \n",
    "            signatureDict[signature] = {\n",
    "                'count': 1,\n",
    "                'presentFeatures': present,\n",
    "                'missingFeatures': missing,\n",
    "                'featureDict': featureDict\n",
    "            }\n",
    "        else:\n",
    "            signatureDict[signature]['count'] += 1\n",
    "            signatureDict[signature]['featureDict'] = countTypes(rawData[table].iloc[index], columns, signatureDict[signature]['presentFeatures'], signatureDict[signature]['featureDict'])\n",
    "            \n",
    "    tableSignatures[table] = signatureDict"
   ]
  },
  {
   "cell_type": "code",
   "execution_count": 47,
   "metadata": {},
   "outputs": [
    {
     "name": "stdout",
     "output_type": "stream",
     "text": [
      "count: 550 \n",
      "\n",
      "presentFeatures: ['TenantId', 'SourceSystem', 'TimeGenerated', 'ReceiptTime', 'DeviceVendor', 'DeviceProduct', 'DeviceEventClassID', 'LogSeverity', 'OriginalLogSeverity', 'DeviceAction', 'SimplifiedDeviceAction', 'Computer', 'CommunicationDirection', 'DeviceFacility', 'DestinationIP', 'DeviceAddress', 'DeviceName', 'Message', 'Protocol', 'SourceIP', 'RemoteIP', 'RemotePort', 'MaliciousIP', 'IndicatorThreatType', 'ThreatDescription', 'ThreatConfidence', 'ReportReferenceLink', 'MaliciousIPCountry', 'DeviceVersion', 'Activity', 'ApplicationProtocol', 'DestinationDnsDomain', 'DestinationServiceName', 'DestinationTranslatedAddress', 'DeviceDnsDomain', 'DeviceExternalID', 'DeviceInboundInterface', 'DeviceNtDomain', 'DeviceOutboundInterface', 'DevicePayloadId', 'ProcessName', 'DeviceTranslatedAddress', 'DestinationHostName', 'DestinationMACAddress', 'DestinationNTDomain', 'DestinationUserPrivileges', 'DestinationProcessName', 'DeviceTimeZone', 'DestinationUserID', 'DestinationUserName', 'DeviceMacAddress', 'FileCreateTime', 'FileHash', 'FileID', 'FileModificationTime', 'FilePath', 'FilePermission', 'FileType', 'FileName', 'OldFileCreateTime', 'OldFileHash', 'OldFileID', 'OldFileModificationTime', 'OldFileName', 'OldFilePath', 'OldFilePermission', 'OldFileType', 'RequestURL', 'RequestClientApplication', 'RequestContext', 'RequestCookies', 'RequestMethod', 'SourceHostName', 'SourceMACAddress', 'SourceNTDomain', 'SourceDnsDomain', 'SourceServiceName', 'SourceTranslatedAddress', 'SourceUserPrivileges', 'SourceProcessName', 'SourceUserID', 'SourceUserName', 'DeviceCustomIPv6Address1', 'DeviceCustomIPv6Address1Label', 'DeviceCustomIPv6Address2', 'DeviceCustomIPv6Address2Label', 'DeviceCustomIPv6Address3', 'DeviceCustomIPv6Address3Label', 'DeviceCustomIPv6Address4', 'DeviceCustomIPv6Address4Label', 'DeviceCustomFloatingPoint1Label', 'DeviceCustomFloatingPoint2Label', 'DeviceCustomFloatingPoint3Label', 'DeviceCustomFloatingPoint4Label', 'DeviceCustomNumber1Label', 'DeviceCustomNumber2Label', 'DeviceCustomNumber3Label', 'DeviceCustomString1', 'DeviceCustomString1Label', 'DeviceCustomString2', 'DeviceCustomString2Label', 'DeviceCustomString3', 'DeviceCustomString3Label', 'DeviceCustomString4', 'DeviceCustomString4Label', 'DeviceCustomString5', 'DeviceCustomString5Label', 'DeviceCustomString6', 'DeviceCustomString6Label', 'DeviceCustomDate1', 'DeviceCustomDate1Label', 'DeviceCustomDate2', 'DeviceCustomDate2Label', 'FlexDate1', 'FlexDate1Label', 'FlexNumber1Label', 'FlexNumber2Label', 'FlexString1', 'FlexString1Label', 'FlexString2', 'FlexString2Label', 'AdditionalExtensions', 'Type', '_ResourceId'] \n",
      "\n",
      "missingFeatures: ['DestinationPort', 'SourcePort', 'ThreatSeverity', 'MaliciousIPLongitude', 'MaliciousIPLatitude', 'EventCount', 'DestinationTranslatedPort', 'DestinationProcessId', 'ProcessID', 'ExternalID', 'FileSize', 'ReceivedBytes', 'OldFileSize', 'SentBytes', 'SourceTranslatedPort', 'SourceProcessId', 'EventType', 'DeviceCustomFloatingPoint1', 'DeviceCustomFloatingPoint2', 'DeviceCustomFloatingPoint3', 'DeviceCustomFloatingPoint4', 'DeviceCustomNumber1', 'DeviceCustomNumber2', 'DeviceCustomNumber3', 'FlexNumber1', 'FlexNumber2', 'StartTime', 'EndTime'] \n",
      "\n",
      "TenantId {'8ecf8077-cf51-4820-aadd-14040956f35d': 550} \n",
      "\n",
      "SourceSystem {'OpsManager': 550} \n",
      "\n",
      "TimeGenerated {Timestamp('2021-05-29 17:50:00.102000+0000', tz='UTC'): 1, Timestamp('2021-04-30 01:34:36.151000+0000', tz='UTC'): 1, Timestamp('2021-06-28 16:39:13.003000+0000', tz='UTC'): 1, Timestamp('2021-06-04 01:26:49.816000+0000', tz='UTC'): 1, Timestamp('2021-05-18 01:33:26.139000+0000', tz='UTC'): 1, Timestamp('2021-06-28 16:40:16.725000+0000', tz='UTC'): 1, Timestamp('2021-05-20 01:32:27.348000+0000', tz='UTC'): 1, Timestamp('2021-06-03 21:01:49.476000+0000', tz='UTC'): 1, Timestamp('2021-06-28 16:52:15.016000+0000', tz='UTC'): 1, Timestamp('2021-05-12 09:29:50.481000+0000', tz='UTC'): 1, Timestamp('2021-06-25 01:29:45.737000+0000', tz='UTC'): 1, Timestamp('2021-04-06 02:08:50.499000+0000', tz='UTC'): 1, Timestamp('2021-05-11 01:44:53.171000+0000', tz='UTC'): 1, Timestamp('2021-05-27 17:46:06.500000+0000', tz='UTC'): 1, Timestamp('2021-05-30 23:19:40.160000+0000', tz='UTC'): 1, Timestamp('2021-05-29 09:53:14.547000+0000', tz='UTC'): 1, Timestamp('2021-04-18 16:49:47.794000+0000', tz='UTC'): 1, Timestamp('2021-04-24 10:23:26.302000+0000', tz='UTC'): 1, Timestamp('2021-06-15 17:15:52.201000+0000', tz='UTC'): 1, Timestamp('2021-04-13 07:26:16.141000+0000', tz='UTC'): 1, Timestamp('2021-05-26 09:13:57.367000+0000', tz='UTC'): 1, Timestamp('2021-04-13 18:27:17.943000+0000', tz='UTC'): 1, Timestamp('2021-05-29 09:55:23.572000+0000', tz='UTC'): 1, Timestamp('2021-06-15 02:43:32.541000+0000', tz='UTC'): 1, Timestamp('2021-05-20 01:43:38.420000+0000', tz='UTC'): 1, Timestamp('2021-05-20 07:23:08.969000+0000', tz='UTC'): 1, Timestamp('2021-06-25 01:26:54.191000+0000', tz='UTC'): 1, Timestamp('2021-05-18 01:25:44.104000+0000', tz='UTC'): 1, Timestamp('2021-04-29 17:47:26.665000+0000', tz='UTC'): 1, Timestamp('2021-04-30 02:18:26.253000+0000', tz='UTC'): 1, Timestamp('2021-05-14 01:42:20.320000+0000', tz='UTC'): 1, Timestamp('2021-05-03 17:49:19.480000+0000', tz='UTC'): 1, Timestamp('2021-06-15 17:15:57.200000+0000', tz='UTC'): 2, Timestamp('2021-04-13 14:38:27.790000+0000', tz='UTC'): 1, Timestamp('2021-06-06 14:16:34.654000+0000', tz='UTC'): 1, Timestamp('2021-06-21 21:02:58.631000+0000', tz='UTC'): 1, Timestamp('2021-06-28 16:10:24.976000+0000', tz='UTC'): 1, Timestamp('2021-06-01 01:28:00.964000+0000', tz='UTC'): 1, Timestamp('2021-06-23 02:09:40.325000+0000', tz='UTC'): 1, Timestamp('2021-06-25 01:44:54.214000+0000', tz='UTC'): 1, Timestamp('2021-04-13 18:09:36.922000+0000', tz='UTC'): 1, Timestamp('2021-06-14 02:32:09.768000+0000', tz='UTC'): 1, Timestamp('2021-05-31 13:05:19.123000+0000', tz='UTC'): 1, Timestamp('2021-04-20 18:06:11.626000+0000', tz='UTC'): 1, Timestamp('2021-05-03 17:51:33.488000+0000', tz='UTC'): 1, Timestamp('2021-05-27 17:46:40.492000+0000', tz='UTC'): 1, Timestamp('2021-06-15 17:15:51.201000+0000', tz='UTC'): 1, Timestamp('2021-04-05 18:19:21.746000+0000', tz='UTC'): 1, Timestamp('2021-05-29 10:00:10.578000+0000', tz='UTC'): 1, Timestamp('2021-05-27 10:26:42.020000+0000', tz='UTC'): 1, Timestamp('2021-06-07 10:05:24.891000+0000', tz='UTC'): 1, Timestamp('2021-05-21 06:58:30.294000+0000', tz='UTC'): 1, Timestamp('2021-05-30 23:32:39.268000+0000', tz='UTC'): 1, Timestamp('2021-05-26 09:58:38.420000+0000', tz='UTC'): 1, Timestamp('2021-06-15 17:16:03.230000+0000', tz='UTC'): 1, Timestamp('2021-06-03 17:45:18.763000+0000', tz='UTC'): 1, Timestamp('2021-05-14 01:37:21.336000+0000', tz='UTC'): 1, Timestamp('2021-06-14 01:23:49.132000+0000', tz='UTC'): 1, Timestamp('2021-03-30 22:44:28.248000+0000', tz='UTC'): 1, Timestamp('2021-04-06 17:19:11.415000+0000', tz='UTC'): 1, Timestamp('2021-06-03 17:59:08.279000+0000', tz='UTC'): 1, Timestamp('2021-03-30 22:29:50.018000+0000', tz='UTC'): 1, Timestamp('2021-05-18 01:30:14.196000+0000', tz='UTC'): 1, Timestamp('2021-06-15 16:51:33.172000+0000', tz='UTC'): 1, Timestamp('2021-06-15 17:16:04.230000+0000', tz='UTC'): 1, Timestamp('2021-04-13 18:09:25.953000+0000', tz='UTC'): 1, Timestamp('2021-04-13 07:36:14.127000+0000', tz='UTC'): 1, Timestamp('2021-06-25 01:44:55.209000+0000', tz='UTC'): 1, Timestamp('2021-06-16 05:14:03.991000+0000', tz='UTC'): 1, Timestamp('2021-05-28 02:14:55.077000+0000', tz='UTC'): 1, Timestamp('2021-04-06 17:20:07.421000+0000', tz='UTC'): 1, Timestamp('2021-05-20 09:28:52.888000+0000', tz='UTC'): 1, Timestamp('2021-05-07 18:11:55.431000+0000', tz='UTC'): 1, Timestamp('2021-06-03 17:48:01.269000+0000', tz='UTC'): 1, Timestamp('2021-06-14 01:23:45.659000+0000', tz='UTC'): 1, Timestamp('2021-05-30 12:55:13.378000+0000', tz='UTC'): 1, Timestamp('2021-05-13 08:46:59.164000+0000', tz='UTC'): 1, Timestamp('2021-06-28 16:36:21+0000', tz='UTC'): 1, Timestamp('2021-06-23 01:59:10.277000+0000', tz='UTC'): 1, Timestamp('2021-06-25 09:37:09.678000+0000', tz='UTC'): 1, Timestamp('2021-06-28 00:02:00.018000+0000', tz='UTC'): 1, Timestamp('2021-06-25 09:38:10.717000+0000', tz='UTC'): 1, Timestamp('2021-06-28 16:39:56.971000+0000', tz='UTC'): 1, Timestamp('2021-04-01 01:54:20.348000+0000', tz='UTC'): 1, Timestamp('2021-06-28 16:43:11.034000+0000', tz='UTC'): 1, Timestamp('2021-04-06 02:08:05.309000+0000', tz='UTC'): 1, Timestamp('2021-06-28 16:43:35.007000+0000', tz='UTC'): 1, Timestamp('2021-04-29 17:48:42.614000+0000', tz='UTC'): 1, Timestamp('2021-06-20 13:16:13.405000+0000', tz='UTC'): 1, Timestamp('2021-03-31 17:21:53.724000+0000', tz='UTC'): 1, Timestamp('2021-05-14 02:45:03.419000+0000', tz='UTC'): 1, Timestamp('2021-04-30 01:39:29.166000+0000', tz='UTC'): 1, Timestamp('2021-06-28 16:51:49.015000+0000', tz='UTC'): 1, Timestamp('2021-05-29 09:55:16.551000+0000', tz='UTC'): 1, Timestamp('2021-04-01 01:56:10.364000+0000', tz='UTC'): 1, Timestamp('2021-05-18 01:34:10.123000+0000', tz='UTC'): 1, Timestamp('2021-05-05 04:50:52.003000+0000', tz='UTC'): 1, Timestamp('2021-06-28 16:44:15.008000+0000', tz='UTC'): 1, Timestamp('2021-06-09 17:33:15.822000+0000', tz='UTC'): 1, Timestamp('2021-06-01 01:17:07.977000+0000', tz='UTC'): 1, Timestamp('2021-04-05 17:32:33.692000+0000', tz='UTC'): 1, Timestamp('2021-06-28 16:44:22.010000+0000', tz='UTC'): 1, Timestamp('2021-06-25 07:22:34.585000+0000', tz='UTC'): 1, Timestamp('2021-05-22 04:14:00.687000+0000', tz='UTC'): 1, Timestamp('2021-06-28 16:44:24.008000+0000', tz='UTC'): 1, Timestamp('2021-05-07 18:12:42.400000+0000', tz='UTC'): 1, Timestamp('2021-05-06 18:22:09.714000+0000', tz='UTC'): 1, Timestamp('2021-05-27 10:14:06.006000+0000', tz='UTC'): 1, Timestamp('2021-06-01 18:00:07.129000+0000', tz='UTC'): 1, Timestamp('2021-05-18 16:13:44.157000+0000', tz='UTC'): 1, Timestamp('2021-05-27 18:03:56.538000+0000', tz='UTC'): 1, Timestamp('2021-05-20 16:54:57.372000+0000', tz='UTC'): 1, Timestamp('2021-04-30 01:50:16.182000+0000', tz='UTC'): 1, Timestamp('2021-06-23 02:09:46.290000+0000', tz='UTC'): 1, Timestamp('2021-04-13 07:25:15.139000+0000', tz='UTC'): 1, Timestamp('2021-06-01 01:29:28.988000+0000', tz='UTC'): 1, Timestamp('2021-05-31 13:05:53.154000+0000', tz='UTC'): 1, Timestamp('2021-05-07 18:14:47.399000+0000', tz='UTC'): 1, Timestamp('2021-06-14 01:16:01.648000+0000', tz='UTC'): 1, Timestamp('2021-04-01 19:27:44.657000+0000', tz='UTC'): 1, Timestamp('2021-05-07 18:11:53.394000+0000', tz='UTC'): 1, Timestamp('2021-04-01 01:54:12.352000+0000', tz='UTC'): 1, Timestamp('2021-06-23 02:00:21.279000+0000', tz='UTC'): 1, Timestamp('2021-04-01 02:01:03.360000+0000', tz='UTC'): 1, Timestamp('2021-05-05 19:08:25.046000+0000', tz='UTC'): 1, Timestamp('2021-06-25 01:44:56.209000+0000', tz='UTC'): 1, Timestamp('2021-04-29 17:44:52.138000+0000', tz='UTC'): 1, Timestamp('2021-04-09 17:57:43.720000+0000', tz='UTC'): 1, Timestamp('2021-04-30 01:34:11.184000+0000', tz='UTC'): 1, Timestamp('2021-06-15 17:16:27.266000+0000', tz='UTC'): 1, Timestamp('2021-05-20 09:58:28.936000+0000', tz='UTC'): 1, Timestamp('2021-05-14 01:35:24.362000+0000', tz='UTC'): 1, Timestamp('2021-05-12 08:30:41.424000+0000', tz='UTC'): 1, Timestamp('2021-05-03 17:52:10.512000+0000', tz='UTC'): 1, Timestamp('2021-04-26 07:10:33.670000+0000', tz='UTC'): 1, Timestamp('2021-04-13 18:08:17.921000+0000', tz='UTC'): 1, Timestamp('2021-05-20 01:31:06.408000+0000', tz='UTC'): 1, Timestamp('2021-05-27 10:11:44.004000+0000', tz='UTC'): 1, Timestamp('2021-04-09 19:56:41.842000+0000', tz='UTC'): 1, Timestamp('2021-06-28 16:38:43.002000+0000', tz='UTC'): 1, Timestamp('2021-06-01 18:06:30.135000+0000', tz='UTC'): 1, Timestamp('2021-05-18 16:01:22.140000+0000', tz='UTC'): 1, Timestamp('2021-06-26 17:47:44.138000+0000', tz='UTC'): 1, Timestamp('2021-04-30 01:50:07.170000+0000', tz='UTC'): 1, Timestamp('2021-05-16 22:49:55.232000+0000', tz='UTC'): 1, Timestamp('2021-04-13 07:24:28.110000+0000', tz='UTC'): 1, Timestamp('2021-04-13 07:27:04.219000+0000', tz='UTC'): 1, Timestamp('2021-04-14 06:24:11.742000+0000', tz='UTC'): 1, Timestamp('2021-04-20 18:13:27.637000+0000', tz='UTC'): 1, Timestamp('2021-06-28 16:45:17.009000+0000', tz='UTC'): 1, Timestamp('2021-05-26 09:13:33.371000+0000', tz='UTC'): 1, Timestamp('2021-06-12 01:23:10.677000+0000', tz='UTC'): 1, Timestamp('2021-05-20 01:32:32.399000+0000', tz='UTC'): 1, Timestamp('2021-04-20 01:37:34.370000+0000', tz='UTC'): 1, Timestamp('2021-04-23 17:54:11.076000+0000', tz='UTC'): 1, Timestamp('2021-06-25 09:37:39.723000+0000', tz='UTC'): 1, Timestamp('2021-05-20 09:58:48.936000+0000', tz='UTC'): 1, Timestamp('2021-06-12 01:22:28.741000+0000', tz='UTC'): 1, Timestamp('2021-05-20 01:29:08.346000+0000', tz='UTC'): 1, Timestamp('2021-04-01 01:54:15.325000+0000', tz='UTC'): 1, Timestamp('2021-04-13 18:08:28.922000+0000', tz='UTC'): 1, Timestamp('2021-05-31 13:15:45.160000+0000', tz='UTC'): 1, Timestamp('2021-06-14 01:23:46.633000+0000', tz='UTC'): 1, Timestamp('2021-06-18 13:27:17.496000+0000', tz='UTC'): 1, Timestamp('2021-05-28 13:46:54.902000+0000', tz='UTC'): 1, Timestamp('2021-06-28 16:52:13.016000+0000', tz='UTC'): 1, Timestamp('2021-06-28 16:45:31.906000+0000', tz='UTC'): 1, Timestamp('2021-05-04 19:04:43.281000+0000', tz='UTC'): 1, Timestamp('2021-06-23 02:00:51.280000+0000', tz='UTC'): 1, Timestamp('2021-04-05 17:32:33.693000+0000', tz='UTC'): 1, Timestamp('2021-05-25 13:55:01.087000+0000', tz='UTC'): 1, Timestamp('2021-04-24 10:23:19.325000+0000', tz='UTC'): 1, Timestamp('2021-04-09 18:08:46.709000+0000', tz='UTC'): 1, Timestamp('2021-05-17 02:15:51.500000+0000', tz='UTC'): 1, Timestamp('2021-06-05 19:41:32.475000+0000', tz='UTC'): 1, Timestamp('2021-06-07 08:03:50.724000+0000', tz='UTC'): 1, Timestamp('2021-06-14 02:31:50.704000+0000', tz='UTC'): 1, Timestamp('2021-05-05 19:10:07.012000+0000', tz='UTC'): 1, Timestamp('2021-06-17 02:21:27.329000+0000', tz='UTC'): 1, Timestamp('2021-06-19 02:01:53.215000+0000', tz='UTC'): 1, Timestamp('2021-05-26 09:14:49.369000+0000', tz='UTC'): 1, Timestamp('2021-06-23 02:06:46.321000+0000', tz='UTC'): 1, Timestamp('2021-05-14 01:32:15.308000+0000', tz='UTC'): 1, Timestamp('2021-04-20 01:19:32.321000+0000', tz='UTC'): 1, Timestamp('2021-06-10 14:30:19.590000+0000', tz='UTC'): 1, Timestamp('2021-05-11 10:15:14.806000+0000', tz='UTC'): 1, Timestamp('2021-05-14 01:27:13.304000+0000', tz='UTC'): 1, Timestamp('2021-04-30 01:39:24.156000+0000', tz='UTC'): 1, Timestamp('2021-06-28 16:45:53.963000+0000', tz='UTC'): 1, Timestamp('2021-06-28 16:49:55.016000+0000', tz='UTC'): 1, Timestamp('2021-06-28 16:45:55.010000+0000', tz='UTC'): 1, Timestamp('2021-06-12 01:39:30.693000+0000', tz='UTC'): 1, Timestamp('2021-05-26 09:20:14.374000+0000', tz='UTC'): 1, Timestamp('2021-04-01 09:49:33.020000+0000', tz='UTC'): 1, Timestamp('2021-05-17 04:53:01.686000+0000', tz='UTC'): 1, Timestamp('2021-04-05 17:32:29.718000+0000', tz='UTC'): 1, Timestamp('2021-05-14 01:30:42.308000+0000', tz='UTC'): 1, Timestamp('2021-04-21 18:20:47.951000+0000', tz='UTC'): 1, Timestamp('2021-04-01 01:57:42.355000+0000', tz='UTC'): 1, Timestamp('2021-04-01 01:54:07.350000+0000', tz='UTC'): 1, Timestamp('2021-04-29 17:47:34.678000+0000', tz='UTC'): 1, Timestamp('2021-05-14 18:01:03.492000+0000', tz='UTC'): 1, Timestamp('2021-06-24 08:12:38.212000+0000', tz='UTC'): 1, Timestamp('2021-06-28 17:03:25.027000+0000', tz='UTC'): 1, Timestamp('2021-06-17 02:18:30.297000+0000', tz='UTC'): 1, Timestamp('2021-06-28 16:52:54.017000+0000', tz='UTC'): 1, Timestamp('2021-04-06 17:22:42.396000+0000', tz='UTC'): 1, Timestamp('2021-06-23 02:05:48.285000+0000', tz='UTC'): 1, Timestamp('2021-05-23 06:19:37.419000+0000', tz='UTC'): 1, Timestamp('2021-06-23 01:59:41.278000+0000', tz='UTC'): 1, Timestamp('2021-06-25 09:37:53.679000+0000', tz='UTC'): 1, Timestamp('2021-04-29 17:48:30.628000+0000', tz='UTC'): 1, Timestamp('2021-05-27 17:41:29.572000+0000', tz='UTC'): 1, Timestamp('2021-06-26 22:54:08.463000+0000', tz='UTC'): 1, Timestamp('2021-06-28 01:28:18.146000+0000', tz='UTC'): 1, Timestamp('2021-06-07 04:04:41.938000+0000', tz='UTC'): 1, Timestamp('2021-06-28 17:04:27.311000+0000', tz='UTC'): 1, Timestamp('2021-05-27 17:44:46.491000+0000', tz='UTC'): 1, Timestamp('2021-05-09 21:28:27.350000+0000', tz='UTC'): 1, Timestamp('2021-05-03 17:45:40.524000+0000', tz='UTC'): 1, Timestamp('2021-06-26 17:46:57.160000+0000', tz='UTC'): 1, Timestamp('2021-06-12 01:40:12.716000+0000', tz='UTC'): 1, Timestamp('2021-05-05 19:09:10.022000+0000', tz='UTC'): 1, Timestamp('2021-05-14 01:32:06.311000+0000', tz='UTC'): 1, Timestamp('2021-06-25 01:26:11.191000+0000', tz='UTC'): 1, Timestamp('2021-06-12 01:40:01.694000+0000', tz='UTC'): 1, Timestamp('2021-05-20 17:57:47.452000+0000', tz='UTC'): 1, Timestamp('2021-06-23 01:59:48.280000+0000', tz='UTC'): 1, Timestamp('2021-05-14 20:45:57.839000+0000', tz='UTC'): 1, Timestamp('2021-06-28 16:46:24.010000+0000', tz='UTC'): 1, Timestamp('2021-06-28 16:40:09.004000+0000', tz='UTC'): 1, Timestamp('2021-04-13 18:09:52.923000+0000', tz='UTC'): 1, Timestamp('2021-06-14 01:15:48.624000+0000', tz='UTC'): 1, Timestamp('2021-05-27 17:41:08.486000+0000', tz='UTC'): 1, Timestamp('2021-06-01 01:39:38.977000+0000', tz='UTC'): 1, Timestamp('2021-05-26 00:43:05.772000+0000', tz='UTC'): 1, Timestamp('2021-06-28 16:53:22.017000+0000', tz='UTC'): 1, Timestamp('2021-06-15 02:44:26.575000+0000', tz='UTC'): 1, Timestamp('2021-06-12 01:23:19.703000+0000', tz='UTC'): 1, Timestamp('2021-05-31 01:20:49.304000+0000', tz='UTC'): 1, Timestamp('2021-05-06 18:17:49.706000+0000', tz='UTC'): 1, Timestamp('2021-04-18 16:49:47.784000+0000', tz='UTC'): 1, Timestamp('2021-06-15 16:52:50.174000+0000', tz='UTC'): 1, Timestamp('2021-06-17 13:13:24.972000+0000', tz='UTC'): 1, Timestamp('2021-04-22 09:18:57.100000+0000', tz='UTC'): 1, Timestamp('2021-06-20 13:10:14.398000+0000', tz='UTC'): 1, Timestamp('2021-06-15 02:42:35.285000+0000', tz='UTC'): 1, Timestamp('2021-04-13 18:09:47.923000+0000', tz='UTC'): 1, Timestamp('2021-06-03 17:46:35.269000+0000', tz='UTC'): 1, Timestamp('2021-06-28 16:49:19.014000+0000', tz='UTC'): 1, Timestamp('2021-06-01 17:59:05.142000+0000', tz='UTC'): 1, Timestamp('2021-06-15 17:15:53.723000+0000', tz='UTC'): 1, Timestamp('2021-06-12 01:21:35.698000+0000', tz='UTC'): 1, Timestamp('2021-06-01 01:27:34.983000+0000', tz='UTC'): 1, Timestamp('2021-06-28 16:46:39.011000+0000', tz='UTC'): 1, Timestamp('2021-05-27 10:14:19.005000+0000', tz='UTC'): 1, Timestamp('2021-06-18 14:25:43.625000+0000', tz='UTC'): 1, Timestamp('2021-05-26 09:20:13.409000+0000', tz='UTC'): 1, Timestamp('2021-06-28 16:37:17.028000+0000', tz='UTC'): 1, Timestamp('2021-06-20 13:02:42.863000+0000', tz='UTC'): 1, Timestamp('2021-05-04 05:14:21.318000+0000', tz='UTC'): 1, Timestamp('2021-06-09 17:19:12.287000+0000', tz='UTC'): 1, Timestamp('2021-06-03 17:48:00.268000+0000', tz='UTC'): 1, Timestamp('2021-06-04 01:31:36.776000+0000', tz='UTC'): 1, Timestamp('2021-06-08 00:57:14.803000+0000', tz='UTC'): 1, Timestamp('2021-05-16 22:39:30.244000+0000', tz='UTC'): 1, Timestamp('2021-06-28 17:04:49.029000+0000', tz='UTC'): 1, Timestamp('2021-06-12 01:24:34.678000+0000', tz='UTC'): 1, Timestamp('2021-06-19 02:05:59.186000+0000', tz='UTC'): 1, Timestamp('2021-06-28 16:36:29.006000+0000', tz='UTC'): 1, Timestamp('2021-06-04 01:27:39.820000+0000', tz='UTC'): 1, Timestamp('2021-05-19 03:35:16.896000+0000', tz='UTC'): 1, Timestamp('2021-06-26 17:26:07.140000+0000', tz='UTC'): 1, Timestamp('2021-04-01 02:07:06.499000+0000', tz='UTC'): 1, Timestamp('2021-06-28 16:44:10.822000+0000', tz='UTC'): 1, Timestamp('2021-06-28 16:42:27.297000+0000', tz='UTC'): 1, Timestamp('2021-06-16 05:11:39.961000+0000', tz='UTC'): 1, Timestamp('2021-05-13 07:55:00.062000+0000', tz='UTC'): 1, Timestamp('2021-06-09 15:27:05.173000+0000', tz='UTC'): 1, Timestamp('2021-05-18 01:23:38.124000+0000', tz='UTC'): 1, Timestamp('2021-04-24 10:28:48.340000+0000', tz='UTC'): 1, Timestamp('2021-05-14 01:37:21.380000+0000', tz='UTC'): 1, Timestamp('2021-05-18 16:05:44.123000+0000', tz='UTC'): 1, Timestamp('2021-04-29 17:57:10.634000+0000', tz='UTC'): 1, Timestamp('2021-05-26 09:14:41.339000+0000', tz='UTC'): 1, Timestamp('2021-05-26 09:14:07.341000+0000', tz='UTC'): 1, Timestamp('2021-06-28 17:04:12.065000+0000', tz='UTC'): 1, Timestamp('2021-06-25 09:42:25.686000+0000', tz='UTC'): 1, Timestamp('2021-06-04 01:31:31.776000+0000', tz='UTC'): 1, Timestamp('2021-04-24 10:25:10.289000+0000', tz='UTC'): 1, Timestamp('2021-06-14 04:10:52.811000+0000', tz='UTC'): 1, Timestamp('2021-06-25 01:26:56.192000+0000', tz='UTC'): 1, Timestamp('2021-04-01 19:27:44.536000+0000', tz='UTC'): 1, Timestamp('2021-05-15 19:30:43.372000+0000', tz='UTC'): 1, Timestamp('2021-06-24 07:43:53.219000+0000', tz='UTC'): 1, Timestamp('2021-06-25 09:49:24.691000+0000', tz='UTC'): 1, Timestamp('2021-05-27 10:26:08.019000+0000', tz='UTC'): 1, Timestamp('2021-06-12 01:23:59.683000+0000', tz='UTC'): 1, Timestamp('2021-06-12 01:39:35.693000+0000', tz='UTC'): 1, Timestamp('2021-06-23 02:22:26.336000+0000', tz='UTC'): 1, Timestamp('2021-05-27 10:16:11.008000+0000', tz='UTC'): 1, Timestamp('2021-06-26 17:47:39.135000+0000', tz='UTC'): 1, Timestamp('2021-04-06 17:30:46.431000+0000', tz='UTC'): 1, Timestamp('2021-04-01 09:49:28.960000+0000', tz='UTC'): 1, Timestamp('2021-05-15 22:31:25.507000+0000', tz='UTC'): 1, Timestamp('2021-04-10 09:41:08.874000+0000', tz='UTC'): 1, Timestamp('2021-05-19 18:20:14.885000+0000', tz='UTC'): 2, Timestamp('2021-06-22 22:26:41.051000+0000', tz='UTC'): 1, Timestamp('2021-05-14 09:51:52.931000+0000', tz='UTC'): 1, Timestamp('2021-06-25 09:39:06.681000+0000', tz='UTC'): 2, Timestamp('2021-04-01 09:50:11.977000+0000', tz='UTC'): 1, Timestamp('2021-05-18 16:19:28.169000+0000', tz='UTC'): 1, Timestamp('2021-05-11 01:44:52.221000+0000', tz='UTC'): 1, Timestamp('2021-06-15 17:16:24.244000+0000', tz='UTC'): 1, Timestamp('2021-04-06 17:18:40.414000+0000', tz='UTC'): 1, Timestamp('2021-05-07 18:14:49.415000+0000', tz='UTC'): 1, Timestamp('2021-05-27 10:15:43.008000+0000', tz='UTC'): 1, Timestamp('2021-04-01 02:08:14.367000+0000', tz='UTC'): 1, Timestamp('2021-06-12 01:23:00.676000+0000', tz='UTC'): 1, Timestamp('2021-06-25 09:42:20.683000+0000', tz='UTC'): 1, Timestamp('2021-04-09 17:56:05.720000+0000', tz='UTC'): 1, Timestamp('2021-06-06 13:55:12.686000+0000', tz='UTC'): 1, Timestamp('2021-05-03 17:45:48.535000+0000', tz='UTC'): 1, Timestamp('2021-06-06 13:56:31.633000+0000', tz='UTC'): 1, Timestamp('2021-06-01 01:29:53.966000+0000', tz='UTC'): 1, Timestamp('2021-04-16 23:56:32.259000+0000', tz='UTC'): 1, Timestamp('2021-05-26 09:20:17.347000+0000', tz='UTC'): 1, Timestamp('2021-05-22 16:42:54.621000+0000', tz='UTC'): 1, Timestamp('2021-06-28 16:47:30.993000+0000', tz='UTC'): 1, Timestamp('2021-06-25 01:45:06.750000+0000', tz='UTC'): 1, Timestamp('2021-05-07 18:13:38.408000+0000', tz='UTC'): 1, Timestamp('2021-06-28 16:44:00.008000+0000', tz='UTC'): 1, Timestamp('2021-06-28 16:34:39.798000+0000', tz='UTC'): 1, Timestamp('2021-04-01 01:54:01.352000+0000', tz='UTC'): 1, Timestamp('2021-06-26 18:03:36.148000+0000', tz='UTC'): 1, Timestamp('2021-06-20 12:57:59.349000+0000', tz='UTC'): 1, Timestamp('2021-04-01 02:14:09.375000+0000', tz='UTC'): 1, Timestamp('2021-05-26 09:14:11.369000+0000', tz='UTC'): 1, Timestamp('2021-04-01 01:57:36.327000+0000', tz='UTC'): 1, Timestamp('2021-05-14 01:35:17.312000+0000', tz='UTC'): 1, Timestamp('2021-06-17 17:50:42.251000+0000', tz='UTC'): 1, Timestamp('2021-06-14 01:24:02.635000+0000', tz='UTC'): 1, Timestamp('2021-05-07 18:12:30.395000+0000', tz='UTC'): 1, Timestamp('2021-06-19 00:22:09.117000+0000', tz='UTC'): 1, Timestamp('2021-04-13 18:09:15.924000+0000', tz='UTC'): 1, Timestamp('2021-06-28 16:47:53.072000+0000', tz='UTC'): 1, Timestamp('2021-06-28 16:47:53.073000+0000', tz='UTC'): 1, Timestamp('2021-04-29 17:48:26.151000+0000', tz='UTC'): 1, Timestamp('2021-06-28 16:47:53.074000+0000', tz='UTC'): 1, Timestamp('2021-06-28 16:47:53.113000+0000', tz='UTC'): 1, Timestamp('2021-06-28 16:47:53.114000+0000', tz='UTC'): 1, Timestamp('2021-05-13 09:48:21.212000+0000', tz='UTC'): 1, Timestamp('2021-06-28 16:47:53.115000+0000', tz='UTC'): 2, Timestamp('2021-06-28 16:47:53.157000+0000', tz='UTC'): 3, Timestamp('2021-06-25 01:26:26.191000+0000', tz='UTC'): 1, Timestamp('2021-06-28 16:47:53.169000+0000', tz='UTC'): 2, Timestamp('2021-06-28 16:34:50.999000+0000', tz='UTC'): 1, Timestamp('2021-06-28 16:47:53.217000+0000', tz='UTC'): 2, Timestamp('2021-06-28 16:47:53.218000+0000', tz='UTC'): 2, Timestamp('2021-06-28 16:47:53.261000+0000', tz='UTC'): 4, Timestamp('2021-06-28 16:47:53.262000+0000', tz='UTC'): 1, Timestamp('2021-06-09 10:46:08.886000+0000', tz='UTC'): 1, Timestamp('2021-06-28 16:47:53.306000+0000', tz='UTC'): 1, Timestamp('2021-06-27 02:42:05.665000+0000', tz='UTC'): 1, Timestamp('2021-04-13 06:46:22.088000+0000', tz='UTC'): 1, Timestamp('2021-06-28 16:47:53.349000+0000', tz='UTC'): 1, Timestamp('2021-06-28 16:47:53.350000+0000', tz='UTC'): 2, Timestamp('2021-05-23 18:03:50.235000+0000', tz='UTC'): 1, Timestamp('2021-06-28 16:47:53.351000+0000', tz='UTC'): 3, Timestamp('2021-05-19 03:59:03.960000+0000', tz='UTC'): 1, Timestamp('2021-06-28 16:47:53.352000+0000', tz='UTC'): 1, Timestamp('2021-06-28 16:47:53.393000+0000', tz='UTC'): 2, Timestamp('2021-06-12 01:39:21.733000+0000', tz='UTC'): 1, Timestamp('2021-06-28 16:47:53.396000+0000', tz='UTC'): 1, Timestamp('2021-06-28 16:36:08.510000+0000', tz='UTC'): 1, Timestamp('2021-06-28 16:47:53.397000+0000', tz='UTC'): 1, Timestamp('2021-06-28 16:47:53.444000+0000', tz='UTC'): 2, Timestamp('2021-06-28 16:47:53.445000+0000', tz='UTC'): 1, Timestamp('2021-06-28 16:47:53.448000+0000', tz='UTC'): 1, Timestamp('2021-06-28 16:47:53.449000+0000', tz='UTC'): 1, Timestamp('2021-06-03 17:45:41.292000+0000', tz='UTC'): 1, Timestamp('2021-06-28 16:47:53.500000+0000', tz='UTC'): 1, Timestamp('2021-06-23 02:09:39.289000+0000', tz='UTC'): 1, Timestamp('2021-05-03 17:52:35.513000+0000', tz='UTC'): 1, Timestamp('2021-06-28 16:47:53.501000+0000', tz='UTC'): 1, Timestamp('2021-06-28 16:47:53.506000+0000', tz='UTC'): 2, Timestamp('2021-06-28 16:47:53.507000+0000', tz='UTC'): 2, Timestamp('2021-04-30 01:42:53.173000+0000', tz='UTC'): 1, Timestamp('2021-04-06 17:35:03.435000+0000', tz='UTC'): 1, Timestamp('2021-06-28 16:47:53.554000+0000', tz='UTC'): 2, Timestamp('2021-06-28 16:47:53.555000+0000', tz='UTC'): 2, Timestamp('2021-06-28 16:47:53.561000+0000', tz='UTC'): 2, Timestamp('2021-06-12 01:39:43.693000+0000', tz='UTC'): 1, Timestamp('2021-05-31 13:10:59.131000+0000', tz='UTC'): 1, Timestamp('2021-06-28 16:47:53.616000+0000', tz='UTC'): 3, Timestamp('2021-05-27 17:52:20.520000+0000', tz='UTC'): 1, Timestamp('2021-06-28 16:47:53.617000+0000', tz='UTC'): 2, Timestamp('2021-06-28 16:47:53.618000+0000', tz='UTC'): 1, Timestamp('2021-05-14 01:27:08.303000+0000', tz='UTC'): 1, Timestamp('2021-06-28 16:47:53.663000+0000', tz='UTC'): 2, Timestamp('2021-06-04 01:26:44.816000+0000', tz='UTC'): 1, Timestamp('2021-06-01 18:00:12.128000+0000', tz='UTC'): 1, Timestamp('2021-06-28 16:47:53.664000+0000', tz='UTC'): 2, Timestamp('2021-06-28 16:47:53.706000+0000', tz='UTC'): 1, Timestamp('2021-06-28 16:47:53.707000+0000', tz='UTC'): 2, Timestamp('2021-06-28 16:47:53.750000+0000', tz='UTC'): 1, Timestamp('2021-06-08 13:16:52.601000+0000', tz='UTC'): 1, Timestamp('2021-06-25 01:52:31.258000+0000', tz='UTC'): 1, Timestamp('2021-06-28 16:51:33.016000+0000', tz='UTC'): 1, Timestamp('2021-04-13 18:08:31.923000+0000', tz='UTC'): 1, Timestamp('2021-04-03 08:24:42.503000+0000', tz='UTC'): 1, Timestamp('2021-06-28 17:04:23.029000+0000', tz='UTC'): 1, Timestamp('2021-06-28 16:48:02.012000+0000', tz='UTC'): 1, Timestamp('2021-05-27 10:14:51.976000+0000', tz='UTC'): 1, Timestamp('2021-05-16 14:41:42.678000+0000', tz='UTC'): 1, Timestamp('2021-06-20 13:11:01.363000+0000', tz='UTC'): 1, Timestamp('2021-04-13 18:01:23.420000+0000', tz='UTC'): 1, Timestamp('2021-04-01 02:08:07.366000+0000', tz='UTC'): 1, Timestamp('2021-06-21 12:41:45.212000+0000', tz='UTC'): 1, Timestamp('2021-04-02 22:01:32.712000+0000', tz='UTC'): 1, Timestamp('2021-04-17 09:58:57.555000+0000', tz='UTC'): 1, Timestamp('2021-05-31 01:20:40.305000+0000', tz='UTC'): 1, Timestamp('2021-06-15 17:16:13.230000+0000', tz='UTC'): 1, Timestamp('2021-06-12 01:22:30.699000+0000', tz='UTC'): 1, Timestamp('2021-05-03 17:52:28.488000+0000', tz='UTC'): 1, Timestamp('2021-06-25 09:38:38.680000+0000', tz='UTC'): 1, Timestamp('2021-04-30 01:39:26.176000+0000', tz='UTC'): 1, Timestamp('2021-06-28 16:42:15.006000+0000', tz='UTC'): 1, Timestamp('2021-06-08 13:25:31.819000+0000', tz='UTC'): 1, Timestamp('2021-05-18 16:18:02.160000+0000', tz='UTC'): 1, Timestamp('2021-04-20 18:00:27.620000+0000', tz='UTC'): 1, Timestamp('2021-04-09 20:21:00.880000+0000', tz='UTC'): 1, Timestamp('2021-06-26 17:47:33.137000+0000', tz='UTC'): 1, Timestamp('2021-06-01 01:24:21.981000+0000', tz='UTC'): 1, Timestamp('2021-04-29 17:48:27.627000+0000', tz='UTC'): 1, Timestamp('2021-06-23 02:26:35.341000+0000', tz='UTC'): 1, Timestamp('2021-05-17 18:11:10.619000+0000', tz='UTC'): 1, Timestamp('2021-05-23 06:21:32.421000+0000', tz='UTC'): 1, Timestamp('2021-04-01 17:33:12.559000+0000', tz='UTC'): 1, Timestamp('2021-06-03 17:44:57.311000+0000', tz='UTC'): 1, Timestamp('2021-04-30 01:37:42.194000+0000', tz='UTC'): 1, Timestamp('2021-06-15 17:15:53.632000+0000', tz='UTC'): 1, Timestamp('2021-06-01 03:28:35.098000+0000', tz='UTC'): 1, Timestamp('2021-06-01 01:37:28.974000+0000', tz='UTC'): 1, Timestamp('2021-06-01 17:59:36.102000+0000', tz='UTC'): 1, Timestamp('2021-06-25 07:22:49.599000+0000', tz='UTC'): 1, Timestamp('2021-06-03 17:46:01.310000+0000', tz='UTC'): 1, Timestamp('2021-06-15 02:49:24.308000+0000', tz='UTC'): 1, Timestamp('2021-04-13 07:27:00.144000+0000', tz='UTC'): 1, Timestamp('2021-04-30 01:50:00.189000+0000', tz='UTC'): 1, Timestamp('2021-06-02 05:18:41.839000+0000', tz='UTC'): 1, Timestamp('2021-06-26 17:57:50.167000+0000', tz='UTC'): 1, Timestamp('2021-05-14 10:47:34.994000+0000', tz='UTC'): 1, Timestamp('2021-05-20 09:58:30.940000+0000', tz='UTC'): 1, Timestamp('2021-06-23 02:00:34.315000+0000', tz='UTC'): 1, Timestamp('2021-05-14 01:30:40.348000+0000', tz='UTC'): 1, Timestamp('2021-06-28 16:48:57.297000+0000', tz='UTC'): 1, Timestamp('2021-06-25 01:26:56.236000+0000', tz='UTC'): 1, Timestamp('2021-05-29 09:57:14.551000+0000', tz='UTC'): 1, Timestamp('2021-05-20 01:42:35.361000+0000', tz='UTC'): 1, Timestamp('2021-06-17 17:51:18.251000+0000', tz='UTC'): 1, Timestamp('2021-06-18 13:21:12.412000+0000', tz='UTC'): 1, Timestamp('2021-06-28 16:49:05.013000+0000', tz='UTC'): 1, Timestamp('2021-06-12 01:23:09.676000+0000', tz='UTC'): 1, Timestamp('2021-06-04 01:31:37.818000+0000', tz='UTC'): 1, Timestamp('2021-05-07 18:09:42.441000+0000', tz='UTC'): 1, Timestamp('2021-06-01 01:28:19.986000+0000', tz='UTC'): 1, Timestamp('2021-06-15 17:16:10.202000+0000', tz='UTC'): 1, Timestamp('2021-06-25 01:29:31.194000+0000', tz='UTC'): 1, Timestamp('2021-04-20 01:37:37.344000+0000', tz='UTC'): 1, Timestamp('2021-05-17 18:10:13.618000+0000', tz='UTC'): 1, Timestamp('2021-06-18 13:20:26.413000+0000', tz='UTC'): 1, Timestamp('2021-04-29 17:52:29.632000+0000', tz='UTC'): 1, Timestamp('2021-05-04 17:41:52.189000+0000', tz='UTC'): 1, Timestamp('2021-06-25 01:17:50.227000+0000', tz='UTC'): 1, Timestamp('2021-05-11 01:57:47.196000+0000', tz='UTC'): 1, Timestamp('2021-06-03 17:48:07.271000+0000', tz='UTC'): 1, Timestamp('2021-06-23 02:00:18.314000+0000', tz='UTC'): 1, Timestamp('2021-04-23 17:58:50.072000+0000', tz='UTC'): 1, Timestamp('2021-06-20 13:15:50.403000+0000', tz='UTC'): 1, Timestamp('2021-04-01 01:54:36.324000+0000', tz='UTC'): 1, Timestamp('2021-06-12 01:17:54.670000+0000', tz='UTC'): 1, Timestamp('2021-04-01 19:27:44.659000+0000', tz='UTC'): 1, Timestamp('2021-05-11 01:44:46.212000+0000', tz='UTC'): 1, Timestamp('2021-06-08 00:57:36.803000+0000', tz='UTC'): 1, Timestamp('2021-04-09 17:23:24.692000+0000', tz='UTC'): 1, Timestamp('2021-06-28 16:35:12+0000', tz='UTC'): 1, Timestamp('2021-05-16 22:48:19.230000+0000', tz='UTC'): 1, Timestamp('2021-06-17 02:16:56.324000+0000', tz='UTC'): 1, Timestamp('2021-05-18 09:28:44.708000+0000', tz='UTC'): 1, Timestamp('2021-05-18 09:29:18.666000+0000', tz='UTC'): 1, Timestamp('2021-06-28 16:50:42.014000+0000', tz='UTC'): 1, Timestamp('2021-06-14 01:23:44.155000+0000', tz='UTC'): 1, Timestamp('2021-06-19 09:58:17.669000+0000', tz='UTC'): 1, Timestamp('2021-06-12 01:23:21.699000+0000', tz='UTC'): 1, Timestamp('2021-06-23 02:19:03.299000+0000', tz='UTC'): 1, Timestamp('2021-06-28 16:41:52.006000+0000', tz='UTC'): 1, Timestamp('2021-06-26 17:47:06.659000+0000', tz='UTC'): 1, Timestamp('2021-06-28 16:35:45+0000', tz='UTC'): 1, Timestamp('2021-05-11 01:44:49.176000+0000', tz='UTC'): 1, Timestamp('2021-04-30 01:39:24.216000+0000', tz='UTC'): 1, Timestamp('2021-04-20 18:14:45.636000+0000', tz='UTC'): 1, Timestamp('2021-06-17 01:18:17.264000+0000', tz='UTC'): 1, Timestamp('2021-06-19 09:58:34.704000+0000', tz='UTC'): 1, Timestamp('2021-06-09 15:05:54.152000+0000', tz='UTC'): 1, Timestamp('2021-05-27 17:46:16.521000+0000', tz='UTC'): 1, Timestamp('2021-05-27 17:40:05.490000+0000', tz='UTC'): 1, Timestamp('2021-04-30 01:34:32.170000+0000', tz='UTC'): 1, Timestamp('2021-05-11 01:44:39.172000+0000', tz='UTC'): 1, Timestamp('2021-06-25 09:40:10.725000+0000', tz='UTC'): 1, Timestamp('2021-05-27 04:59:55.621000+0000', tz='UTC'): 1, Timestamp('2021-05-10 02:21:07.513000+0000', tz='UTC'): 1, Timestamp('2021-05-08 13:04:44.691000+0000', tz='UTC'): 1, Timestamp('2021-05-11 01:44:43.171000+0000', tz='UTC'): 1, Timestamp('2021-06-28 16:40:17.001000+0000', tz='UTC'): 1, Timestamp('2021-05-18 09:19:49.678000+0000', tz='UTC'): 1, Timestamp('2021-05-07 18:11:24.427000+0000', tz='UTC'): 1, Timestamp('2021-05-20 09:58:23.937000+0000', tz='UTC'): 1, Timestamp('2021-06-26 18:03:42.178000+0000', tz='UTC'): 1, Timestamp('2021-06-12 01:23:12.677000+0000', tz='UTC'): 1, Timestamp('2021-06-03 17:44:57.265000+0000', tz='UTC'): 1, Timestamp('2021-06-26 18:03:16.176000+0000', tz='UTC'): 1} \n",
      "\n",
      "ReceiptTime {'$cefformatted-receive_time': 454, '': 88, 'Apr 13 2021 18:18:19 GMT': 1, 'May 28 2021 13:36:56 GMT': 1, 'Jun 28 2021 16:50:49 GMT': 1, 'May 14 2021 20:36:16 GMT': 1, 'Jun 20 2021 12:49:43 GMT': 1, 'Jun 28 2021 16:28:49 GMT': 1, 'Jun 28 2021 16:35:19 GMT': 1, 'May 08 2021 12:55:11 GMT': 1} \n",
      "\n",
      "DeviceVendor {'Palo Alto Networks': 462, 'Vectra Networks': 82, 'Fortinet': 5, 'rr~319': 1} \n",
      "\n",
      "DeviceProduct {'PAN-OS': 462, 'X Series': 82, 'Fortigate': 5, '': 1} \n",
      "\n",
      "DeviceEventClassID {'end': 452, 'audit': 79, 'syslog': 8, '20027': 5, 'start': 2, 'health': 3, '': 1} \n",
      "\n",
      "LogSeverity {'1': 454, '0': 82, '$numberof-severity': 8, '2': 5, '': 1} \n",
      "\n",
      "OriginalLogSeverity {'': 550} \n",
      "\n",
      "DeviceAction {'': 550} \n",
      "\n",
      "SimplifiedDeviceAction {'': 550} \n",
      "\n",
      "Computer {'': 550} \n",
      "\n",
      "CommunicationDirection {'': 550} \n",
      "\n",
      "DeviceFacility {'': 468, '13': 79, '14': 3} \n",
      "\n",
      "DestinationIP {'10.6.1.5': 454, '': 96} \n",
      "\n",
      "DeviceAddress {'': 468, '192.168.52.37': 69, '192.168.51.13': 13} \n",
      "\n",
      "DeviceName {'': 468, 'x29-1-37.sc.tvec': 69, 'x29-1-13.sc.tvec': 13} \n",
      "\n",
      "Message {'': 463, \"invalid authentication token '558a********' used for API request\": 37, \"invalid authentication token '46ee********' used for API request\": 3, \"invalid authentication token '7153********' used for API request\": 37, 'Delete 60 old report files': 4, 'Delete 12 old report files': 1, 'Device heartbeat success on V42139d797ab52f8ce44ec2a86b6f71b8': 2, 'Device heartbeat success on A21000000000354': 1, 'session timeout with length 8:00:01': 1, 'log in': 1} \n",
      "\n",
      "Protocol {'': 550} \n",
      "\n",
      "SourceIP {'20.84.58.45': 6, '52.247.224.91': 14, '79.124.62.34': 15, '40.76.136.202': 10, '20.84.107.17': 14, '192.168.50.228': 78, '13.66.14.111': 10, '20.55.19.103': 8, '13.66.15.55': 6, '70.37.67.248': 23, '23.98.137.169': 18, '20.51.108.59': 7, '52.156.106.142': 13, '20.55.72.104': 8, '': 17, '52.156.104.140': 12, '20.98.114.31': 1, '23.102.129.200': 5, '20.72.209.153': 11, '20.98.115.13': 9, '52.156.139.47': 15, '20.51.222.156': 3, '20.98.114.84': 17, '104.214.101.211': 11, '70.37.71.212': 11, '23.98.145.20': 15, '52.247.226.239': 8, '23.102.131.33': 6, '20.98.104.1': 12, '13.84.201.36': 7, '167.248.133.71': 1, '20.83.225.237': 7, '20.84.50.45': 11, '40.84.176.100': 5, '20.55.67.56': 4, '38.88.252.189': 2, '89.248.165.75': 1, '20.55.112.14': 9, '172.104.218.132': 1, '121.5.100.93': 1, '45.134.26.39': 2, '162.142.125.152': 2, '103.145.13.248': 1, '84.38.186.69': 1, '193.27.228.61': 1, '192.241.220.135': 1, '185.153.196.126': 1, '45.135.232.119': 1, '20.51.240.209': 1, '40.84.176.95': 3, '45.134.26.36': 1, '20.83.156.66': 2, '20.57.138.196': 1, '79.124.62.82': 1, '128.199.141.66': 1, '20.62.252.133': 4, '20.98.105.138': 2, '40.76.235.24': 21, '20.84.81.248': 6, '193.27.229.207': 1, '162.142.125.146': 1, '162.142.125.147': 2, '185.173.35.9': 1, '20.51.113.252': 9, '193.142.59.124': 1, '185.191.34.207': 1, '74.120.14.94': 1, '192.241.221.43': 1, '20.57.131.31': 1, '193.57.40.49': 1, '45.134.26.55': 1, '20.62.160.77': 1, '20.84.124.86': 6, '23.121.253.123': 1, '45.155.205.223': 1, '45.134.144.101': 1, '185.220.205.213': 1, '89.248.165.203': 2, '188.166.216.9': 1, '45.134.26.37': 1, '193.163.125.106': 1, '193.27.228.59': 1, '92.63.197.74': 1, '117.148.190.3': 1, '66.119.150.197': 1, '52.224.243.27': 1, '40.76.227.234': 2, '89.248.165.77': 1, '94.232.45.197': 1, '170.231.120.64': 1, '185.53.90.85': 1, '20.84.42.141': 1, '134.209.183.166': 1, 'None': 1, '81.68.83.27': 1, '167.99.202.255': 1, '20.83.201.79': 1, '185.236.11.7': 1, '45.143.200.6': 1, '139.162.120.98': 1, '40.84.211.211': 1, '162.142.125.158': 1, '59.39.89.122': 1, '89.248.165.86': 1, '123.18.212.132': 1, '164.52.24.190': 1, '94.232.45.199': 1, '45.146.165.208': 1} \n",
      "\n",
      "RemoteIP {'': 550} \n",
      "\n",
      "RemotePort {'': 550} \n",
      "\n",
      "MaliciousIP {'': 550} \n",
      "\n",
      "IndicatorThreatType {'': 550} \n",
      "\n",
      "ThreatDescription {'': 550} \n",
      "\n",
      "ThreatConfidence {'': 550} \n",
      "\n",
      "ReportReferenceLink {'': 550} \n",
      "\n",
      "MaliciousIPCountry {'': 550} \n",
      "\n",
      "DeviceVersion {'8.0.0': 462, '6.8': 73, '6.5': 7, 'v6.4.5': 5, '6.7': 2, '': 1} \n",
      "\n",
      "Activity {'TRAFFIC': 454, 'user_action': 79, 'SYSTEM': 8, 'event:system': 5, 'heartbeat_check': 3, '': 1} \n",
      "\n",
      "ApplicationProtocol {'': 550} \n",
      "\n",
      "DestinationDnsDomain {'': 550} \n",
      "\n",
      "DestinationServiceName {'': 550} \n",
      "\n",
      "DestinationTranslatedAddress {'': 550} \n",
      "\n",
      "DeviceDnsDomain {'': 550} \n",
      "\n",
      "DeviceExternalID {'007057000050480': 462, '': 83, 'FGVM4VTM21000723': 5} \n",
      "\n",
      "DeviceInboundInterface {'': 550} \n",
      "\n",
      "DeviceNtDomain {'': 550} \n",
      "\n",
      "DeviceOutboundInterface {'': 550} \n",
      "\n",
      "DevicePayloadId {'': 550} \n",
      "\n",
      "ProcessName {'': 550} \n",
      "\n",
      "DeviceTranslatedAddress {'': 550} \n",
      "\n",
      "DestinationHostName {'': 550} \n",
      "\n",
      "DestinationMACAddress {'': 550} \n",
      "\n",
      "DestinationNTDomain {'': 550} \n",
      "\n",
      "DestinationUserPrivileges {'': 550} \n",
      "\n",
      "DestinationProcessName {'': 550} \n",
      "\n",
      "DeviceTimeZone {'': 550} \n",
      "\n",
      "DestinationUserID {'': 550} \n",
      "\n",
      "DestinationUserName {'': 550} \n",
      "\n",
      "DeviceMacAddress {'': 550} \n",
      "\n",
      "FileCreateTime {'': 550} \n",
      "\n",
      "FileHash {'': 550} \n",
      "\n",
      "FileID {'': 550} \n",
      "\n",
      "FileModificationTime {'': 550} \n",
      "\n",
      "FilePath {'': 550} \n",
      "\n",
      "FilePermission {'': 550} \n",
      "\n",
      "FileType {'': 550} \n",
      "\n",
      "FileName {'': 550} \n",
      "\n",
      "OldFileCreateTime {'': 550} \n",
      "\n",
      "OldFileHash {'': 550} \n",
      "\n",
      "OldFileID {'': 550} \n",
      "\n",
      "OldFileModificationTime {'': 550} \n",
      "\n",
      "OldFileName {'': 550} \n",
      "\n",
      "OldFilePath {'': 550} \n",
      "\n",
      "OldFilePermission {'': 550} \n",
      "\n",
      "OldFileType {'': 550} \n",
      "\n",
      "RequestURL {'': 550} \n",
      "\n",
      "RequestClientApplication {'': 550} \n",
      "\n",
      "RequestContext {'': 550} \n",
      "\n",
      "RequestCookies {'': 550} \n",
      "\n",
      "RequestMethod {'': 550} \n",
      "\n",
      "SourceHostName {'': 550} \n",
      "\n",
      "SourceMACAddress {'': 550} \n",
      "\n",
      "SourceNTDomain {'': 550} \n",
      "\n",
      "SourceDnsDomain {'': 550} \n",
      "\n",
      "SourceServiceName {'': 550} \n",
      "\n",
      "SourceTranslatedAddress {'': 550} \n",
      "\n",
      "SourceUserPrivileges {'': 471, 'None': 77, 'Admin': 2} \n",
      "\n",
      "SourceProcessName {'': 550} \n",
      "\n",
      "SourceUserID {'': 550} \n",
      "\n",
      "SourceUserName {'': 471, 'None': 77, 'vectrademo': 2} \n",
      "\n",
      "DeviceCustomIPv6Address1 {'': 550} \n",
      "\n",
      "DeviceCustomIPv6Address1Label {'': 550} \n",
      "\n",
      "DeviceCustomIPv6Address2 {'': 550} \n",
      "\n",
      "DeviceCustomIPv6Address2Label {'': 550} \n",
      "\n",
      "DeviceCustomIPv6Address3 {'': 550} \n",
      "\n",
      "DeviceCustomIPv6Address3Label {'': 550} \n",
      "\n",
      "DeviceCustomIPv6Address4 {'': 550} \n",
      "\n",
      "DeviceCustomIPv6Address4Label {'': 550} \n",
      "\n",
      "DeviceCustomFloatingPoint1Label {'': 550} \n",
      "\n",
      "DeviceCustomFloatingPoint2Label {'': 550} \n",
      "\n",
      "DeviceCustomFloatingPoint3Label {'': 550} \n",
      "\n",
      "DeviceCustomFloatingPoint4Label {'': 550} \n",
      "\n",
      "DeviceCustomNumber1Label {'': 550} \n",
      "\n",
      "DeviceCustomNumber2Label {'': 550} \n",
      "\n",
      "DeviceCustomNumber3Label {'': 550} \n",
      "\n",
      "DeviceCustomString1 {'': 550} \n",
      "\n",
      "DeviceCustomString1Label {'': 550} \n",
      "\n",
      "DeviceCustomString2 {'': 550} \n",
      "\n",
      "DeviceCustomString2Label {'': 550} \n",
      "\n",
      "DeviceCustomString3 {'': 550} \n",
      "\n",
      "DeviceCustomString3Label {'': 550} \n",
      "\n",
      "DeviceCustomString4 {'': 550} \n",
      "\n",
      "DeviceCustomString4Label {'': 550} \n",
      "\n",
      "DeviceCustomString5 {'': 550} \n",
      "\n",
      "DeviceCustomString5Label {'': 550} \n",
      "\n",
      "DeviceCustomString6 {'': 550} \n",
      "\n",
      "DeviceCustomString6Label {'': 550} \n",
      "\n",
      "DeviceCustomDate1 {'': 550} \n",
      "\n",
      "DeviceCustomDate1Label {'': 550} \n",
      "\n",
      "DeviceCustomDate2 {'': 550} \n",
      "\n",
      "DeviceCustomDate2Label {'': 550} \n",
      "\n",
      "FlexDate1 {'': 550} \n",
      "\n",
      "FlexDate1Label {'': 550} \n",
      "\n",
      "FlexNumber1Label {'': 550} \n",
      "\n",
      "FlexNumber2Label {'': 550} \n",
      "\n",
      "FlexString1 {'': 550} \n",
      "\n",
      "FlexString1Label {'': 550} \n",
      "\n",
      "FlexString2 {'': 550} \n",
      "\n",
      "FlexString2Label {'': 550} \n",
      "\n",
      "AdditionalExtensions {'': 463, 'cat=user_action;outcome=failure': 77, 'FortinetFortiGateeventtime=1621495495866478537;FortinetFortiGatetz=-0700;FortinetFortiGatelogid=0100020027;cat=event:system;FortinetFortiGatesubtype=system;FortinetFortiGatelevel=information;FortinetFortiGatevd=root;FortinetFortiGatelogdesc=Outdated report files deleted': 1, 'FortinetFortiGateeventtime=1624898402076727276;FortinetFortiGatetz=-0700;FortinetFortiGatelogid=0100020027;cat=event:system;FortinetFortiGatesubtype=system;FortinetFortiGatelevel=information;FortinetFortiGatevd=root;FortinetFortiGatelogdesc=Outdated report files deleted': 1, 'FortinetFortiGateeventtime=1618381489977628057;FortinetFortiGatetz=-0700;FortinetFortiGatelogid=0100020027;cat=event:system;FortinetFortiGatesubtype=system;FortinetFortiGatelevel=information;FortinetFortiGatevd=root;FortinetFortiGatelogdesc=Outdated report files deleted': 1, 'FortinetFortiGateeventtime=1623038685829946687;FortinetFortiGatetz=-0700;FortinetFortiGatelogid=0100020027;cat=event:system;FortinetFortiGatesubtype=system;FortinetFortiGatelevel=information;FortinetFortiGatevd=root;FortinetFortiGatelogdesc=Outdated report files deleted': 1, 'FortinetFortiGateeventtime=1620595794136598137;FortinetFortiGatetz=-0700;FortinetFortiGatelogid=0100020027;cat=event:system;FortinetFortiGatesubtype=system;FortinetFortiGatelevel=information;FortinetFortiGatevd=root;FortinetFortiGatelogdesc=Outdated report files deleted': 1, 'outcome=success': 3, 'cat=user_action;outcome=success': 2} \n",
      "\n",
      "Type {'CommonSecurityLog': 550} \n",
      "\n",
      "_ResourceId {'/subscriptions/d1d8779d-38d7-4f06-91db-9cbc8de0176f/resourcegroups/soc-fortinet/providers/microsoft.compute/virtualmachines/soc-fw-cef': 550} \n",
      "\n"
     ]
    }
   ],
   "source": [
    "print('count:',signatureDict['11111111111111011111011110111100111101110111111111110111111001111111100111111101011111111111001111011111111010101010101011111111111111111110101111110011']['count'],'\\n')\n",
    "print('presentFeatures:',signatureDict['11111111111111011111011110111100111101110111111111110111111001111111100111111101011111111111001111011111111010101010101011111111111111111110101111110011']['presentFeatures'],'\\n')\n",
    "print('missingFeatures:',signatureDict['11111111111111011111011110111100111101110111111111110111111001111111100111111101011111111111001111011111111010101010101011111111111111111110101111110011']['missingFeatures'],'\\n')\n",
    "\n",
    "for i in signatureDict['11111111111111011111011110111100111101110111111111110111111001111111100111111101011111111111001111011111111010101010101011111111111111111110101111110011']['featureDict']:\n",
    "    print(i, signatureDict['11111111111111011111011110111100111101110111111111110111111001111111100111111101011111111111001111011111111010101010101011111111111111111110101111110011']['featureDict'][i],'\\n')"
   ]
  },
  {
   "cell_type": "code",
   "execution_count": 30,
   "metadata": {},
   "outputs": [
    {
     "data": {
      "application/vnd.jupyter.widget-view+json": {
       "model_id": "2f5fa15e19564d1a801f9e6d2ff8c8d2",
       "version_major": 2,
       "version_minor": 0
      },
      "text/plain": [
       "Select(description='Hello World', options=(1, 2, 3), value=1)"
      ]
     },
     "metadata": {},
     "output_type": "display_data"
    }
   ],
   "source": [
    "import ipywidgets\n",
    "\n",
    "text = ipywidgets.Select(description='Hello World', options=[1,2,3])\n",
    "text"
   ]
  },
  {
   "cell_type": "code",
   "execution_count": 31,
   "metadata": {},
   "outputs": [
    {
     "name": "stdout",
     "output_type": "stream",
     "text": [
      "1\n"
     ]
    }
   ],
   "source": [
    "print(text.value)"
   ]
  },
  {
   "cell_type": "code",
   "execution_count": 57,
   "metadata": {},
   "outputs": [
    {
     "name": "stdout",
     "output_type": "stream",
     "text": [
      "0       6\n",
      "1       6\n",
      "2       6\n",
      "3       6\n",
      "4        \n",
      "       ..\n",
      "9995     \n",
      "9996    6\n",
      "9997    6\n",
      "9998     \n",
      "9999     \n",
      "Name: Protocol, Length: 10000, dtype: object\n"
     ]
    }
   ],
   "source": [
    "print(rawData['CommonSecurityLog']['Protocol'])"
   ]
  },
  {
   "cell_type": "code",
   "execution_count": null,
   "metadata": {},
   "outputs": [],
   "source": []
  }
 ],
 "metadata": {
  "kernelspec": {
   "display_name": "Python 3",
   "language": "python",
   "name": "python3"
  },
  "language_info": {
   "codemirror_mode": {
    "name": "ipython",
    "version": 3
   },
   "file_extension": ".py",
   "mimetype": "text/x-python",
   "name": "python",
   "nbconvert_exporter": "python",
   "pygments_lexer": "ipython3",
   "version": "3.8.5"
  },
  "widgets": {
   "application/vnd.jupyter.widget-state+json": {
    "state": {
     "0481ddb112094d988d361c9ed102b9d6": {
      "model_module": "@jupyter-widgets/base",
      "model_module_version": "1.2.0",
      "model_name": "LayoutModel",
      "state": {
       "width": "70%"
      }
     },
     "0b0980f654a047a5a6cb514f0e1bd6d6": {
      "model_module": "@jupyter-widgets/controls",
      "model_module_version": "1.5.0",
      "model_name": "VBoxModel",
      "state": {
       "children": [
        "IPY_MODEL_3f8e275bca3641b28659149a22cbf5fd",
        "IPY_MODEL_87aa44728d8f4f55be5a8a88810f770c",
        "IPY_MODEL_a9ac014a1b114e29a83f19a45baaa710"
       ],
       "layout": "IPY_MODEL_6ed24919feaa41039084e0258a2821e9"
      }
     },
     "0ec3e2089daf45eab7a35cde3f6163a6": {
      "model_module": "@jupyter-widgets/base",
      "model_module_version": "1.2.0",
      "model_name": "LayoutModel",
      "state": {}
     },
     "1bda2b50190b42e9a57c3ad8eaf1a856": {
      "model_module": "@jupyter-widgets/controls",
      "model_module_version": "1.5.0",
      "model_name": "SliderStyleModel",
      "state": {
       "description_width": "initial"
      }
     },
     "1e1a04b49a144a32b697157407f23de4": {
      "model_module": "@jupyter-widgets/controls",
      "model_module_version": "1.5.0",
      "model_name": "DatePickerModel",
      "state": {
       "description": "Origin Date",
       "disabled": false,
       "layout": "IPY_MODEL_8336cef841c743fd8cf2d16c56b12ec6",
       "style": "IPY_MODEL_40a5c9fda5e94709a5aafafb4e253029",
       "value": {
        "date": 17,
        "month": 5,
        "year": 2021
       }
      }
     },
     "1ef839cd62dd457b81efe054ac701290": {
      "model_module": "@jupyter-widgets/controls",
      "model_module_version": "1.5.0",
      "model_name": "TextModel",
      "state": {
       "description": "Filter:",
       "layout": "IPY_MODEL_5e22dbf2e0e8427e9bffc71c3c0b28ea",
       "style": "IPY_MODEL_72d67f4c56a3410f9ea51b1314f6c108"
      }
     },
     "24c2da968aba47b58008b7de1127f288": {
      "model_module": "@jupyter-widgets/controls",
      "model_module_version": "1.5.0",
      "model_name": "DescriptionStyleModel",
      "state": {
       "description_width": "initial"
      }
     },
     "288d20eb051a459cb94bfb6e465d7728": {
      "model_module": "@jupyter-widgets/base",
      "model_module_version": "1.2.0",
      "model_name": "LayoutModel",
      "state": {}
     },
     "29bd2f2133a344e3873baefa1e157d6b": {
      "model_module": "@jupyter-widgets/controls",
      "model_module_version": "1.5.0",
      "model_name": "IntRangeSliderModel",
      "state": {
       "_model_name": "IntRangeSliderModel",
       "_view_name": "IntRangeSliderView",
       "description": "Time Range",
       "layout": "IPY_MODEL_0481ddb112094d988d361c9ed102b9d6",
       "max": 28,
       "min": -28,
       "style": "IPY_MODEL_1bda2b50190b42e9a57c3ad8eaf1a856",
       "value": [
        -1,
        1
       ]
      }
     },
     "2e8192683b424011af9da260d0720ede": {
      "model_module": "@jupyter-widgets/controls",
      "model_module_version": "1.5.0",
      "model_name": "DescriptionStyleModel",
      "state": {
       "description_width": ""
      }
     },
     "37a43cf1c9fa4fba8db52d1065dd888f": {
      "model_module": "@jupyter-widgets/controls",
      "model_module_version": "1.5.0",
      "model_name": "TextModel",
      "state": {
       "description": "Time (24hr)",
       "layout": "IPY_MODEL_ba72d574d8b54a578e0fc488cbeb71bf",
       "style": "IPY_MODEL_2e8192683b424011af9da260d0720ede",
       "value": "19:17:00.159013"
      }
     },
     "3f8e275bca3641b28659149a22cbf5fd": {
      "model_module": "@jupyter-widgets/controls",
      "model_module_version": "1.5.0",
      "model_name": "HBoxModel",
      "state": {
       "children": [
        "IPY_MODEL_29bd2f2133a344e3873baefa1e157d6b",
        "IPY_MODEL_efd5b921d9734d7d884da1a2e887ec16"
       ],
       "layout": "IPY_MODEL_f981f016b5cb47febb469c41bce67530"
      }
     },
     "3fc10339d05545019f4396482028388f": {
      "model_module": "@jupyter-widgets/base",
      "model_module_version": "1.2.0",
      "model_name": "LayoutModel",
      "state": {
       "height": "300px",
       "width": "50%"
      }
     },
     "40a5c9fda5e94709a5aafafb4e253029": {
      "model_module": "@jupyter-widgets/controls",
      "model_module_version": "1.5.0",
      "model_name": "DescriptionStyleModel",
      "state": {
       "description_width": ""
      }
     },
     "4305aa0ae3fe49b2813a5e32683d74ad": {
      "model_module": "@jupyter-widgets/base",
      "model_module_version": "1.2.0",
      "model_name": "LayoutModel",
      "state": {
       "width": "100px"
      }
     },
     "47be37e1aace4857a4b80c1c9bb0294d": {
      "model_module": "@jupyter-widgets/base",
      "model_module_version": "1.2.0",
      "model_name": "LayoutModel",
      "state": {}
     },
     "4d9ffff8f58f49ed8dca7bd456cfae7c": {
      "model_module": "@jupyter-widgets/controls",
      "model_module_version": "1.5.0",
      "model_name": "VBoxModel",
      "state": {
       "children": [
        "IPY_MODEL_96ebc21f3ac442f58b38df9be6fa85fc",
        "IPY_MODEL_6f62a1296b01459196e0b3af77aed1c6",
        "IPY_MODEL_0b0980f654a047a5a6cb514f0e1bd6d6"
       ],
       "layout": "IPY_MODEL_47be37e1aace4857a4b80c1c9bb0294d"
      }
     },
     "5e22dbf2e0e8427e9bffc71c3c0b28ea": {
      "model_module": "@jupyter-widgets/base",
      "model_module_version": "1.2.0",
      "model_name": "LayoutModel",
      "state": {}
     },
     "6ed24919feaa41039084e0258a2821e9": {
      "model_module": "@jupyter-widgets/base",
      "model_module_version": "1.2.0",
      "model_name": "LayoutModel",
      "state": {}
     },
     "6f62a1296b01459196e0b3af77aed1c6": {
      "model_module": "@jupyter-widgets/controls",
      "model_module_version": "1.5.0",
      "model_name": "HBoxModel",
      "state": {
       "children": [
        "IPY_MODEL_1e1a04b49a144a32b697157407f23de4",
        "IPY_MODEL_37a43cf1c9fa4fba8db52d1065dd888f"
       ],
       "layout": "IPY_MODEL_0ec3e2089daf45eab7a35cde3f6163a6"
      }
     },
     "72d67f4c56a3410f9ea51b1314f6c108": {
      "model_module": "@jupyter-widgets/controls",
      "model_module_version": "1.5.0",
      "model_name": "DescriptionStyleModel",
      "state": {
       "description_width": "initial"
      }
     },
     "795f53f162ac447999559113c2cee3fe": {
      "model_module": "@jupyter-widgets/controls",
      "model_module_version": "1.5.0",
      "model_name": "DescriptionStyleModel",
      "state": {
       "description_width": "initial"
      }
     },
     "805a3ca3e53247fcbbc17c3e3c8cb4c1": {
      "model_module": "@jupyter-widgets/base",
      "model_module_version": "1.2.0",
      "model_name": "LayoutModel",
      "state": {
       "width": "50%"
      }
     },
     "8336cef841c743fd8cf2d16c56b12ec6": {
      "model_module": "@jupyter-widgets/base",
      "model_module_version": "1.2.0",
      "model_name": "LayoutModel",
      "state": {}
     },
     "87aa44728d8f4f55be5a8a88810f770c": {
      "model_module": "@jupyter-widgets/controls",
      "model_module_version": "1.5.0",
      "model_name": "TextModel",
      "state": {
       "description": "Query start time (UTC):",
       "layout": "IPY_MODEL_805a3ca3e53247fcbbc17c3e3c8cb4c1",
       "style": "IPY_MODEL_24c2da968aba47b58008b7de1127f288",
       "value": "2021-06-16 19:17:00.159013"
      }
     },
     "96ebc21f3ac442f58b38df9be6fa85fc": {
      "model_module": "@jupyter-widgets/controls",
      "model_module_version": "1.5.0",
      "model_name": "HTMLModel",
      "state": {
       "layout": "IPY_MODEL_ac04de5474e54bbda52edc2150787a79",
       "style": "IPY_MODEL_ec541a958dc54e2eb05b72eef9356ba5",
       "value": "<h4>Set query time boundaries</h4>"
      }
     },
     "9e4a99ad784a490e95147495d001bd83": {
      "model_module": "@jupyter-widgets/base",
      "model_module_version": "1.2.0",
      "model_name": "LayoutModel",
      "state": {
       "width": "50%"
      }
     },
     "a662549c6c204377995fc211737ce2e2": {
      "model_module": "@jupyter-widgets/controls",
      "model_module_version": "1.5.0",
      "model_name": "DescriptionStyleModel",
      "state": {
       "description_width": ""
      }
     },
     "a9ac014a1b114e29a83f19a45baaa710": {
      "model_module": "@jupyter-widgets/controls",
      "model_module_version": "1.5.0",
      "model_name": "TextModel",
      "state": {
       "description": "Query end time (UTC) :  ",
       "layout": "IPY_MODEL_9e4a99ad784a490e95147495d001bd83",
       "style": "IPY_MODEL_795f53f162ac447999559113c2cee3fe",
       "value": "2021-06-18 19:17:00.159013"
      }
     },
     "ac04de5474e54bbda52edc2150787a79": {
      "model_module": "@jupyter-widgets/base",
      "model_module_version": "1.2.0",
      "model_name": "LayoutModel",
      "state": {}
     },
     "ba72d574d8b54a578e0fc488cbeb71bf": {
      "model_module": "@jupyter-widgets/base",
      "model_module_version": "1.2.0",
      "model_name": "LayoutModel",
      "state": {}
     },
     "ccf2f319259d462aa7e153536dafb4b7": {
      "model_module": "@jupyter-widgets/controls",
      "model_module_version": "1.5.0",
      "model_name": "SelectModel",
      "state": {
       "_options_labels": [
        "Azure.get_vmcomputer_for_host",
        "Azure.get_vmcomputer_for_ip",
        "Azure.list_aad_signins_for_account",
        "Azure.list_aad_signins_for_ip",
        "Azure.list_all_signins_geo",
        "Azure.list_azure_activity_for_account",
        "Azure.list_azure_activity_for_ip",
        "Azure.list_azure_activity_for_resource",
        "Azure.list_storage_ops_for_hash",
        "Azure.list_storage_ops_for_ip",
        "AzureNetwork.az_net_analytics",
        "AzureNetwork.dns_lookups_for_domain",
        "AzureNetwork.dns_lookups_for_ip",
        "AzureNetwork.dns_lookups_from_ip",
        "AzureNetwork.get_heartbeat_for_host",
        "AzureNetwork.get_heartbeat_for_ip",
        "AzureNetwork.get_host_for_ip",
        "AzureNetwork.get_ips_for_host",
        "AzureNetwork.list_azure_network_flows_by_host",
        "AzureNetwork.list_azure_network_flows_by_ip",
        "AzureSentinel.get_bookmark_by_id",
        "AzureSentinel.get_bookmark_by_name",
        "AzureSentinel.list_bookmarks",
        "AzureSentinel.list_bookmarks_for_entity",
        "AzureSentinel.list_bookmarks_for_tags",
        "Heartbeat.get_heartbeat_for_host",
        "Heartbeat.get_heartbeat_for_ip",
        "Heartbeat.get_info_by_hostname",
        "Heartbeat.get_info_by_ipaddress",
        "LinuxAudit.auditd_all",
        "LinuxSyslog.all_syslog",
        "LinuxSyslog.cron_activity",
        "LinuxSyslog.list_account_logon_failures",
        "LinuxSyslog.list_host_logon_failures",
        "LinuxSyslog.list_ip_logon_failures",
        "LinuxSyslog.list_logon_failures",
        "LinuxSyslog.list_logons_for_account",
        "LinuxSyslog.list_logons_for_host",
        "LinuxSyslog.list_logons_for_source_ip",
        "LinuxSyslog.squid_activity",
        "LinuxSyslog.sudo_activity",
        "LinuxSyslog.user_group_activity",
        "LinuxSyslog.user_logon",
        "MultiDataSource.get_timeseries_anomalies",
        "MultiDataSource.get_timeseries_data",
        "MultiDataSource.get_timeseries_decompose",
        "MultiDataSource.plot_timeseries_datawithbaseline",
        "MultiDataSource.plot_timeseries_scoreanomolies",
        "Network.get_heartbeat_for_host",
        "Network.get_heartbeat_for_ip",
        "Network.get_host_for_ip",
        "Network.get_ips_for_host",
        "Network.list_azure_network_flows_by_host",
        "Network.list_azure_network_flows_by_ip",
        "Office365.list_activity_for_account",
        "Office365.list_activity_for_ip",
        "Office365.list_activity_for_resource",
        "SecurityAlert.get_alert",
        "SecurityAlert.list_alerts",
        "SecurityAlert.list_alerts_counts",
        "SecurityAlert.list_alerts_for_ip",
        "SecurityAlert.list_related_alerts",
        "ThreatIntelligence.list_indicators",
        "ThreatIntelligence.list_indicators_by_domain",
        "ThreatIntelligence.list_indicators_by_email",
        "ThreatIntelligence.list_indicators_by_filepath",
        "ThreatIntelligence.list_indicators_by_hash",
        "ThreatIntelligence.list_indicators_by_ip",
        "ThreatIntelligence.list_indicators_by_url",
        "WindowsSecurity.get_host_logon",
        "WindowsSecurity.get_parent_process",
        "WindowsSecurity.get_process_tree",
        "WindowsSecurity.list_all_logons_by_host",
        "WindowsSecurity.list_events",
        "WindowsSecurity.list_events_by_id",
        "WindowsSecurity.list_host_events",
        "WindowsSecurity.list_host_events_by_id",
        "WindowsSecurity.list_host_logon_failures",
        "WindowsSecurity.list_host_logons",
        "WindowsSecurity.list_host_processes",
        "WindowsSecurity.list_hosts_matching_commandline",
        "WindowsSecurity.list_logon_attempts_by_account",
        "WindowsSecurity.list_logon_failures_by_account",
        "WindowsSecurity.list_logons_by_account",
        "WindowsSecurity.list_matching_processes",
        "WindowsSecurity.list_other_events",
        "WindowsSecurity.list_processes_in_session"
       ],
       "description": "Select an item",
       "index": 11,
       "layout": "IPY_MODEL_3fc10339d05545019f4396482028388f",
       "style": "IPY_MODEL_d2be1beb7b184872a341af446d17b15d"
      }
     },
     "d2be1beb7b184872a341af446d17b15d": {
      "model_module": "@jupyter-widgets/controls",
      "model_module_version": "1.5.0",
      "model_name": "DescriptionStyleModel",
      "state": {
       "description_width": "initial"
      }
     },
     "d57f88c027ef451a984a7dedbb00d049": {
      "model_module": "@jupyter-widgets/controls",
      "model_module_version": "1.5.0",
      "model_name": "VBoxModel",
      "state": {
       "children": [
        "IPY_MODEL_1ef839cd62dd457b81efe054ac701290",
        "IPY_MODEL_ccf2f319259d462aa7e153536dafb4b7"
       ],
       "layout": "IPY_MODEL_288d20eb051a459cb94bfb6e465d7728"
      }
     },
     "ec541a958dc54e2eb05b72eef9356ba5": {
      "model_module": "@jupyter-widgets/controls",
      "model_module_version": "1.5.0",
      "model_name": "DescriptionStyleModel",
      "state": {
       "description_width": ""
      }
     },
     "efd5b921d9734d7d884da1a2e887ec16": {
      "model_module": "@jupyter-widgets/controls",
      "model_module_version": "1.5.0",
      "model_name": "DropdownModel",
      "state": {
       "_options_labels": [
        "minute",
        "hour",
        "day",
        "week"
       ],
       "index": 2,
       "layout": "IPY_MODEL_4305aa0ae3fe49b2813a5e32683d74ad",
       "style": "IPY_MODEL_a662549c6c204377995fc211737ce2e2"
      }
     },
     "f981f016b5cb47febb469c41bce67530": {
      "model_module": "@jupyter-widgets/base",
      "model_module_version": "1.2.0",
      "model_name": "LayoutModel",
      "state": {}
     },
     "fffeadd39455425ea842d8fd2445baea": {
      "model_module": "@jupyter-widgets/base",
      "model_module_version": "1.2.0",
      "model_name": "LayoutModel",
      "state": {
       "width": "95%"
      }
     }
    },
    "version_major": 2,
    "version_minor": 0
   }
  }
 },
 "nbformat": 4,
 "nbformat_minor": 4
}
